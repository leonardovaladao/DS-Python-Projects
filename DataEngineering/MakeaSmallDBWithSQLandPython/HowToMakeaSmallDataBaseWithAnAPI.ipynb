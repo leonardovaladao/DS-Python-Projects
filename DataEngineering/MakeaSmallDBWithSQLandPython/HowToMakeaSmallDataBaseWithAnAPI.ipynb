{
 "cells": [
  {
   "cell_type": "markdown",
   "id": "13160a95",
   "metadata": {},
   "source": [
    "# Como criar um pequeno banco de dados SQL através de uma API usando Python?"
   ]
  },
  {
   "cell_type": "markdown",
   "id": "92fed91a",
   "metadata": {},
   "source": [
    "Neste notebook, você poderá aprender como criar um pequeno banco de dados através de uma API, a fim de acessá-lo para fins como indexar dados em um app ou website, ou mesmo apenas organizar seus dados de forma mais estruturada do que um arquivo .csv."
   ]
  },
  {
   "cell_type": "markdown",
   "id": "18b55c36",
   "metadata": {},
   "source": [
    "Para este tutorial, vamos utilizar a API dos dados abertos da Câmara dos Deputados Federais do Brasil. Você pode conferir a documentação completa da API aqui: https://dadosabertos.camara.leg.br/swagger/api.html"
   ]
  },
  {
   "cell_type": "markdown",
   "id": "ba9979e0",
   "metadata": {},
   "source": [
    "Primeiro, vamos importar todas as bibliotecas que iremos utilizar para, primeiramente, conseguir os dados através da API:"
   ]
  },
  {
   "cell_type": "code",
   "execution_count": 1,
   "id": "61749c14",
   "metadata": {},
   "outputs": [],
   "source": [
    "from requests import get\n",
    "import pandas as pd"
   ]
  },
  {
   "cell_type": "markdown",
   "id": "22cb8848",
   "metadata": {},
   "source": [
    "Vamos explorar um pouco da API. Vamos puxar alguns dados gerais dos deputados da câmara, conforme a documentação da API. Utilizando a função *get*, podemos dar uma olhada na forma dos dados."
   ]
  },
  {
   "cell_type": "code",
   "execution_count": 2,
   "id": "3a36923c",
   "metadata": {},
   "outputs": [
    {
     "name": "stdout",
     "output_type": "stream",
     "text": [
      "b'{\"dados\":[{\"id\":204554,\"uri\":\"https://dadosabertos.camara.leg.br/api/v2/deputados/204554\",\"nome\":\"Ab\\xc3\\xadlio Santana\",\"siglaPartido\":\"PL\",\"uriPartido\":\"https://dadosabertos.camara.leg.br/api/v2/partidos/37906\",\"siglaUf\":\"BA\",\"idLegislatura\":56,\"urlFoto\":\"https://www.camara.leg.br/internet/deputado/bandep/204554.jpg\",\"email\":\"dep.abiliosantana@camara.leg.br\"},{\"id\":204521,\"uri\":\"https://dadosabertos.camara.leg.br/api/v2/deputados/204521\",\"nome\":\"Abou Anni\",\"siglaPartido\":\"PSL\",\"uriPartido\":\"https://dadosabertos.camara.leg.br/api/v2/partidos/36837\",\"siglaUf\":\"SP\",\"idLegislatura\":56,\"urlFoto\":\"https://www.camara.leg.br/internet/deputado/bandep/204521.jpg\",\"email\":\"dep.abouanni@camara.leg.br\"},{\"id\":204379,\"uri\":\"https://dadosabertos.camara.leg.br/api/v2/deputados/204379\",\"nome\":\"Ac\\xc3\\xa1cio Favacho\",\"siglaPartido\":\"PROS\",\"uriPartido\":\"https://dadosabertos.camara.leg.br/api/v2/partidos/36763\",\"siglaUf\":\"AP\",\"idLegislatura\":56,\"urlFoto\":\"https://www.camara.leg.br/internet/deputado/bandep/204379.j'\n"
     ]
    }
   ],
   "source": [
    "print(get(\"https://dadosabertos.camara.leg.br/api/v2/deputados\").content[:999])"
   ]
  },
  {
   "cell_type": "markdown",
   "id": "896a52f0",
   "metadata": {},
   "source": [
    "Para facilitar a visualização, vamos gerar um DataFrame através do Pandas."
   ]
  },
  {
   "cell_type": "code",
   "execution_count": 3,
   "id": "9ac507ef",
   "metadata": {
    "scrolled": false
   },
   "outputs": [
    {
     "data": {
      "text/html": [
       "<div>\n",
       "<style scoped>\n",
       "    .dataframe tbody tr th:only-of-type {\n",
       "        vertical-align: middle;\n",
       "    }\n",
       "\n",
       "    .dataframe tbody tr th {\n",
       "        vertical-align: top;\n",
       "    }\n",
       "\n",
       "    .dataframe thead th {\n",
       "        text-align: right;\n",
       "    }\n",
       "</style>\n",
       "<table border=\"1\" class=\"dataframe\">\n",
       "  <thead>\n",
       "    <tr style=\"text-align: right;\">\n",
       "      <th></th>\n",
       "      <th>id</th>\n",
       "      <th>uri</th>\n",
       "      <th>nome</th>\n",
       "      <th>siglaPartido</th>\n",
       "      <th>uriPartido</th>\n",
       "      <th>siglaUf</th>\n",
       "      <th>idLegislatura</th>\n",
       "      <th>urlFoto</th>\n",
       "      <th>email</th>\n",
       "    </tr>\n",
       "  </thead>\n",
       "  <tbody>\n",
       "    <tr>\n",
       "      <th>0</th>\n",
       "      <td>204554</td>\n",
       "      <td>https://dadosabertos.camara.leg.br/api/v2/depu...</td>\n",
       "      <td>Abílio Santana</td>\n",
       "      <td>PL</td>\n",
       "      <td>https://dadosabertos.camara.leg.br/api/v2/part...</td>\n",
       "      <td>BA</td>\n",
       "      <td>56</td>\n",
       "      <td>https://www.camara.leg.br/internet/deputado/ba...</td>\n",
       "      <td>dep.abiliosantana@camara.leg.br</td>\n",
       "    </tr>\n",
       "    <tr>\n",
       "      <th>1</th>\n",
       "      <td>204521</td>\n",
       "      <td>https://dadosabertos.camara.leg.br/api/v2/depu...</td>\n",
       "      <td>Abou Anni</td>\n",
       "      <td>PSL</td>\n",
       "      <td>https://dadosabertos.camara.leg.br/api/v2/part...</td>\n",
       "      <td>SP</td>\n",
       "      <td>56</td>\n",
       "      <td>https://www.camara.leg.br/internet/deputado/ba...</td>\n",
       "      <td>dep.abouanni@camara.leg.br</td>\n",
       "    </tr>\n",
       "    <tr>\n",
       "      <th>2</th>\n",
       "      <td>204379</td>\n",
       "      <td>https://dadosabertos.camara.leg.br/api/v2/depu...</td>\n",
       "      <td>Acácio Favacho</td>\n",
       "      <td>PROS</td>\n",
       "      <td>https://dadosabertos.camara.leg.br/api/v2/part...</td>\n",
       "      <td>AP</td>\n",
       "      <td>56</td>\n",
       "      <td>https://www.camara.leg.br/internet/deputado/ba...</td>\n",
       "      <td>dep.acaciofavacho@camara.leg.br</td>\n",
       "    </tr>\n",
       "    <tr>\n",
       "      <th>3</th>\n",
       "      <td>204560</td>\n",
       "      <td>https://dadosabertos.camara.leg.br/api/v2/depu...</td>\n",
       "      <td>Adolfo Viana</td>\n",
       "      <td>PSDB</td>\n",
       "      <td>https://dadosabertos.camara.leg.br/api/v2/part...</td>\n",
       "      <td>BA</td>\n",
       "      <td>56</td>\n",
       "      <td>https://www.camara.leg.br/internet/deputado/ba...</td>\n",
       "      <td>dep.adolfoviana@camara.leg.br</td>\n",
       "    </tr>\n",
       "    <tr>\n",
       "      <th>4</th>\n",
       "      <td>204528</td>\n",
       "      <td>https://dadosabertos.camara.leg.br/api/v2/depu...</td>\n",
       "      <td>Adriana Ventura</td>\n",
       "      <td>NOVO</td>\n",
       "      <td>https://dadosabertos.camara.leg.br/api/v2/part...</td>\n",
       "      <td>SP</td>\n",
       "      <td>56</td>\n",
       "      <td>https://www.camara.leg.br/internet/deputado/ba...</td>\n",
       "      <td>dep.adrianaventura@camara.leg.br</td>\n",
       "    </tr>\n",
       "  </tbody>\n",
       "</table>\n",
       "</div>"
      ],
      "text/plain": [
       "       id                                                uri             nome  \\\n",
       "0  204554  https://dadosabertos.camara.leg.br/api/v2/depu...   Abílio Santana   \n",
       "1  204521  https://dadosabertos.camara.leg.br/api/v2/depu...        Abou Anni   \n",
       "2  204379  https://dadosabertos.camara.leg.br/api/v2/depu...   Acácio Favacho   \n",
       "3  204560  https://dadosabertos.camara.leg.br/api/v2/depu...     Adolfo Viana   \n",
       "4  204528  https://dadosabertos.camara.leg.br/api/v2/depu...  Adriana Ventura   \n",
       "\n",
       "  siglaPartido                                         uriPartido siglaUf  \\\n",
       "0           PL  https://dadosabertos.camara.leg.br/api/v2/part...      BA   \n",
       "1          PSL  https://dadosabertos.camara.leg.br/api/v2/part...      SP   \n",
       "2         PROS  https://dadosabertos.camara.leg.br/api/v2/part...      AP   \n",
       "3         PSDB  https://dadosabertos.camara.leg.br/api/v2/part...      BA   \n",
       "4         NOVO  https://dadosabertos.camara.leg.br/api/v2/part...      SP   \n",
       "\n",
       "   idLegislatura                                            urlFoto  \\\n",
       "0             56  https://www.camara.leg.br/internet/deputado/ba...   \n",
       "1             56  https://www.camara.leg.br/internet/deputado/ba...   \n",
       "2             56  https://www.camara.leg.br/internet/deputado/ba...   \n",
       "3             56  https://www.camara.leg.br/internet/deputado/ba...   \n",
       "4             56  https://www.camara.leg.br/internet/deputado/ba...   \n",
       "\n",
       "                              email  \n",
       "0   dep.abiliosantana@camara.leg.br  \n",
       "1        dep.abouanni@camara.leg.br  \n",
       "2   dep.acaciofavacho@camara.leg.br  \n",
       "3     dep.adolfoviana@camara.leg.br  \n",
       "4  dep.adrianaventura@camara.leg.br  "
      ]
     },
     "execution_count": 3,
     "metadata": {},
     "output_type": "execute_result"
    }
   ],
   "source": [
    "df = pd.DataFrame(get(\"https://dadosabertos.camara.leg.br/api/v2/deputados\").json()['dados']) \n",
    "df.head()"
   ]
  },
  {
   "cell_type": "markdown",
   "id": "d3d63231",
   "metadata": {},
   "source": [
    "Vamos dar uma olhada em algumas informações da tabela. A Câmara de Deputados tem, atualmente, 513 deputados. Vamos olhar se nossas informações estão completas."
   ]
  },
  {
   "cell_type": "code",
   "execution_count": 4,
   "id": "6a682bbc",
   "metadata": {},
   "outputs": [
    {
     "name": "stdout",
     "output_type": "stream",
     "text": [
      "<class 'pandas.core.frame.DataFrame'>\n",
      "RangeIndex: 513 entries, 0 to 512\n",
      "Data columns (total 9 columns):\n",
      " #   Column         Non-Null Count  Dtype \n",
      "---  ------         --------------  ----- \n",
      " 0   id             513 non-null    int64 \n",
      " 1   uri            513 non-null    object\n",
      " 2   nome           513 non-null    object\n",
      " 3   siglaPartido   513 non-null    object\n",
      " 4   uriPartido     513 non-null    object\n",
      " 5   siglaUf        513 non-null    object\n",
      " 6   idLegislatura  513 non-null    int64 \n",
      " 7   urlFoto        513 non-null    object\n",
      " 8   email          513 non-null    object\n",
      "dtypes: int64(2), object(7)\n",
      "memory usage: 36.2+ KB\n"
     ]
    }
   ],
   "source": [
    "df.info()"
   ]
  },
  {
   "cell_type": "markdown",
   "id": "937a781e",
   "metadata": {},
   "source": [
    "513 deputados! Nossos dados estão completos e não há dados nulos."
   ]
  },
  {
   "cell_type": "markdown",
   "id": "df305461",
   "metadata": {},
   "source": [
    "Alguns dados podem não ser interessantes para nós, e por isso iremos retirá-los da tabela. Mais especificamente, iremos retirar uri, uriPartido, e idLegislatura."
   ]
  },
  {
   "cell_type": "code",
   "execution_count": 5,
   "id": "d0207ba4",
   "metadata": {},
   "outputs": [
    {
     "data": {
      "text/html": [
       "<div>\n",
       "<style scoped>\n",
       "    .dataframe tbody tr th:only-of-type {\n",
       "        vertical-align: middle;\n",
       "    }\n",
       "\n",
       "    .dataframe tbody tr th {\n",
       "        vertical-align: top;\n",
       "    }\n",
       "\n",
       "    .dataframe thead th {\n",
       "        text-align: right;\n",
       "    }\n",
       "</style>\n",
       "<table border=\"1\" class=\"dataframe\">\n",
       "  <thead>\n",
       "    <tr style=\"text-align: right;\">\n",
       "      <th></th>\n",
       "      <th>id</th>\n",
       "      <th>nome</th>\n",
       "      <th>siglaPartido</th>\n",
       "      <th>siglaUf</th>\n",
       "      <th>urlFoto</th>\n",
       "      <th>email</th>\n",
       "    </tr>\n",
       "  </thead>\n",
       "  <tbody>\n",
       "    <tr>\n",
       "      <th>0</th>\n",
       "      <td>204554</td>\n",
       "      <td>Abílio Santana</td>\n",
       "      <td>PL</td>\n",
       "      <td>BA</td>\n",
       "      <td>https://www.camara.leg.br/internet/deputado/ba...</td>\n",
       "      <td>dep.abiliosantana@camara.leg.br</td>\n",
       "    </tr>\n",
       "    <tr>\n",
       "      <th>1</th>\n",
       "      <td>204521</td>\n",
       "      <td>Abou Anni</td>\n",
       "      <td>PSL</td>\n",
       "      <td>SP</td>\n",
       "      <td>https://www.camara.leg.br/internet/deputado/ba...</td>\n",
       "      <td>dep.abouanni@camara.leg.br</td>\n",
       "    </tr>\n",
       "    <tr>\n",
       "      <th>2</th>\n",
       "      <td>204379</td>\n",
       "      <td>Acácio Favacho</td>\n",
       "      <td>PROS</td>\n",
       "      <td>AP</td>\n",
       "      <td>https://www.camara.leg.br/internet/deputado/ba...</td>\n",
       "      <td>dep.acaciofavacho@camara.leg.br</td>\n",
       "    </tr>\n",
       "    <tr>\n",
       "      <th>3</th>\n",
       "      <td>204560</td>\n",
       "      <td>Adolfo Viana</td>\n",
       "      <td>PSDB</td>\n",
       "      <td>BA</td>\n",
       "      <td>https://www.camara.leg.br/internet/deputado/ba...</td>\n",
       "      <td>dep.adolfoviana@camara.leg.br</td>\n",
       "    </tr>\n",
       "    <tr>\n",
       "      <th>4</th>\n",
       "      <td>204528</td>\n",
       "      <td>Adriana Ventura</td>\n",
       "      <td>NOVO</td>\n",
       "      <td>SP</td>\n",
       "      <td>https://www.camara.leg.br/internet/deputado/ba...</td>\n",
       "      <td>dep.adrianaventura@camara.leg.br</td>\n",
       "    </tr>\n",
       "  </tbody>\n",
       "</table>\n",
       "</div>"
      ],
      "text/plain": [
       "       id             nome siglaPartido siglaUf  \\\n",
       "0  204554   Abílio Santana           PL      BA   \n",
       "1  204521        Abou Anni          PSL      SP   \n",
       "2  204379   Acácio Favacho         PROS      AP   \n",
       "3  204560     Adolfo Viana         PSDB      BA   \n",
       "4  204528  Adriana Ventura         NOVO      SP   \n",
       "\n",
       "                                             urlFoto  \\\n",
       "0  https://www.camara.leg.br/internet/deputado/ba...   \n",
       "1  https://www.camara.leg.br/internet/deputado/ba...   \n",
       "2  https://www.camara.leg.br/internet/deputado/ba...   \n",
       "3  https://www.camara.leg.br/internet/deputado/ba...   \n",
       "4  https://www.camara.leg.br/internet/deputado/ba...   \n",
       "\n",
       "                              email  \n",
       "0   dep.abiliosantana@camara.leg.br  \n",
       "1        dep.abouanni@camara.leg.br  \n",
       "2   dep.acaciofavacho@camara.leg.br  \n",
       "3     dep.adolfoviana@camara.leg.br  \n",
       "4  dep.adrianaventura@camara.leg.br  "
      ]
     },
     "execution_count": 5,
     "metadata": {},
     "output_type": "execute_result"
    }
   ],
   "source": [
    "df.drop(\"uri\", axis=1, inplace=True)\n",
    "df.drop(\"uriPartido\", axis=1, inplace=True)\n",
    "df.drop(\"idLegislatura\", axis=1, inplace=True)\n",
    "df.head()"
   ]
  },
  {
   "cell_type": "markdown",
   "id": "53fd9188",
   "metadata": {},
   "source": [
    "Se queremos um banco de dados interno, ter as fotos dos deputados em URLs externas pode ser indesejável, e podemos, ao invés disso, utilizar fotos dentro do nosso próprio servidor para alimentar alguma aplicação. Para fazer isso, vamos baixar cada foto de cada deputado em uma pasta chamada *source*. "
   ]
  },
  {
   "cell_type": "code",
   "execution_count": 6,
   "id": "28ce6775",
   "metadata": {},
   "outputs": [],
   "source": [
    "import os\n",
    "if not os.path.exists(\"source\"):\n",
    "    os.makedirs(\"source\")"
   ]
  },
  {
   "cell_type": "code",
   "execution_count": 7,
   "id": "8e2a332d",
   "metadata": {},
   "outputs": [],
   "source": [
    "for url in df[\"urlFoto\"]:\n",
    "    photo_name = url.split(\"/\")[-1]\n",
    "    img_data = get(url).content\n",
    "    with open(\"source/\"+photo_name, 'wb') as handler:\n",
    "        handler.write(img_data)"
   ]
  },
  {
   "cell_type": "markdown",
   "id": "8d93ec98",
   "metadata": {},
   "source": [
    "Agora, podemos substituir a urlFoto pela URL em nosso próprio servidor:"
   ]
  },
  {
   "cell_type": "code",
   "execution_count": 8,
   "id": "66afb605",
   "metadata": {},
   "outputs": [
    {
     "data": {
      "text/html": [
       "<div>\n",
       "<style scoped>\n",
       "    .dataframe tbody tr th:only-of-type {\n",
       "        vertical-align: middle;\n",
       "    }\n",
       "\n",
       "    .dataframe tbody tr th {\n",
       "        vertical-align: top;\n",
       "    }\n",
       "\n",
       "    .dataframe thead th {\n",
       "        text-align: right;\n",
       "    }\n",
       "</style>\n",
       "<table border=\"1\" class=\"dataframe\">\n",
       "  <thead>\n",
       "    <tr style=\"text-align: right;\">\n",
       "      <th></th>\n",
       "      <th>id</th>\n",
       "      <th>nome</th>\n",
       "      <th>siglaPartido</th>\n",
       "      <th>siglaUf</th>\n",
       "      <th>urlFoto</th>\n",
       "      <th>email</th>\n",
       "    </tr>\n",
       "  </thead>\n",
       "  <tbody>\n",
       "    <tr>\n",
       "      <th>0</th>\n",
       "      <td>204554</td>\n",
       "      <td>Abílio Santana</td>\n",
       "      <td>PL</td>\n",
       "      <td>BA</td>\n",
       "      <td>source/204554.jpg</td>\n",
       "      <td>dep.abiliosantana@camara.leg.br</td>\n",
       "    </tr>\n",
       "    <tr>\n",
       "      <th>1</th>\n",
       "      <td>204521</td>\n",
       "      <td>Abou Anni</td>\n",
       "      <td>PSL</td>\n",
       "      <td>SP</td>\n",
       "      <td>source/204521.jpg</td>\n",
       "      <td>dep.abouanni@camara.leg.br</td>\n",
       "    </tr>\n",
       "    <tr>\n",
       "      <th>2</th>\n",
       "      <td>204379</td>\n",
       "      <td>Acácio Favacho</td>\n",
       "      <td>PROS</td>\n",
       "      <td>AP</td>\n",
       "      <td>source/204379.jpg</td>\n",
       "      <td>dep.acaciofavacho@camara.leg.br</td>\n",
       "    </tr>\n",
       "    <tr>\n",
       "      <th>3</th>\n",
       "      <td>204560</td>\n",
       "      <td>Adolfo Viana</td>\n",
       "      <td>PSDB</td>\n",
       "      <td>BA</td>\n",
       "      <td>source/204560.jpg</td>\n",
       "      <td>dep.adolfoviana@camara.leg.br</td>\n",
       "    </tr>\n",
       "    <tr>\n",
       "      <th>4</th>\n",
       "      <td>204528</td>\n",
       "      <td>Adriana Ventura</td>\n",
       "      <td>NOVO</td>\n",
       "      <td>SP</td>\n",
       "      <td>source/204528.jpg</td>\n",
       "      <td>dep.adrianaventura@camara.leg.br</td>\n",
       "    </tr>\n",
       "  </tbody>\n",
       "</table>\n",
       "</div>"
      ],
      "text/plain": [
       "       id             nome siglaPartido siglaUf            urlFoto  \\\n",
       "0  204554   Abílio Santana           PL      BA  source/204554.jpg   \n",
       "1  204521        Abou Anni          PSL      SP  source/204521.jpg   \n",
       "2  204379   Acácio Favacho         PROS      AP  source/204379.jpg   \n",
       "3  204560     Adolfo Viana         PSDB      BA  source/204560.jpg   \n",
       "4  204528  Adriana Ventura         NOVO      SP  source/204528.jpg   \n",
       "\n",
       "                              email  \n",
       "0   dep.abiliosantana@camara.leg.br  \n",
       "1        dep.abouanni@camara.leg.br  \n",
       "2   dep.acaciofavacho@camara.leg.br  \n",
       "3     dep.adolfoviana@camara.leg.br  \n",
       "4  dep.adrianaventura@camara.leg.br  "
      ]
     },
     "execution_count": 8,
     "metadata": {},
     "output_type": "execute_result"
    }
   ],
   "source": [
    "df[\"urlFoto\"] = [\"source/\"+i.split(\"/\")[-1] for i in df[\"urlFoto\"]]\n",
    "df.head()"
   ]
  },
  {
   "cell_type": "markdown",
   "id": "861ab290",
   "metadata": {},
   "source": [
    "Vamos testar se nosso link funciona:"
   ]
  },
  {
   "cell_type": "code",
   "execution_count": 9,
   "id": "b5019d1e",
   "metadata": {},
   "outputs": [
    {
     "data": {
      "image/jpeg": "[encoded data removed]",
      "text/plain": [
       "<IPython.core.display.Image object>"
      ]
     },
     "execution_count": 9,
     "metadata": {},
     "output_type": "execute_result"
    }
   ],
   "source": [
    "from IPython.display import Image\n",
    "Image(filename=df[\"urlFoto\"][150]) "
   ]
  },
  {
   "cell_type": "markdown",
   "id": "7d697469",
   "metadata": {},
   "source": [
    "Pronto! As fotos estão prontas em nosso sistema local."
   ]
  },
  {
   "cell_type": "markdown",
   "id": "cd093975",
   "metadata": {},
   "source": [
    "Agora, nossa tabela está pronta para ser inserida em um banco de dados SQL. Para isso, vamos utilizar o SQLite 3, uma versão mais simples do SQL para pequenos bancos de dados como o nosso."
   ]
  },
  {
   "cell_type": "code",
   "execution_count": 10,
   "id": "5bb14964",
   "metadata": {},
   "outputs": [],
   "source": [
    "import sqlite3"
   ]
  },
  {
   "cell_type": "markdown",
   "id": "7cbaf545",
   "metadata": {},
   "source": [
    "Vamos chamar nosso banco de dados de *deputadosDB*. Primeiramente, precisamos conectar a biblioteca SQLite3 com este banco num arquivo. Para isso, usamos o método *connect* da biblioteca:"
   ]
  },
  {
   "cell_type": "code",
   "execution_count": 11,
   "id": "d1326474",
   "metadata": {},
   "outputs": [],
   "source": [
    "connector = sqlite3.connect('deputadosDB.db')"
   ]
  },
  {
   "cell_type": "markdown",
   "id": "f309d9a2",
   "metadata": {},
   "source": [
    "Agora que conectamos nosso banco, precisamos de um cursor. Um cursor é uma instância que possibilita que criemos cláusulas SQL e a processemos no nosso banco."
   ]
  },
  {
   "cell_type": "code",
   "execution_count": 12,
   "id": "238c37c4",
   "metadata": {},
   "outputs": [],
   "source": [
    "cursor = connector.cursor()"
   ]
  },
  {
   "cell_type": "markdown",
   "id": "c0b8376b",
   "metadata": {},
   "source": [
    "Agora, vamos criar uma tabela no nosso banco de dados. Para isso, vamos usar nosso conector, porém escrevendo cláusulas SQL. Vamos criar uma tabela chamada *deputados* com as colunas correspondendo ao nosso DataFrame, porém indicando os tipos de dados adequados."
   ]
  },
  {
   "cell_type": "code",
   "execution_count": 13,
   "id": "c5690b5a",
   "metadata": {},
   "outputs": [
    {
     "data": {
      "text/html": [
       "<div>\n",
       "<style scoped>\n",
       "    .dataframe tbody tr th:only-of-type {\n",
       "        vertical-align: middle;\n",
       "    }\n",
       "\n",
       "    .dataframe tbody tr th {\n",
       "        vertical-align: top;\n",
       "    }\n",
       "\n",
       "    .dataframe thead th {\n",
       "        text-align: right;\n",
       "    }\n",
       "</style>\n",
       "<table border=\"1\" class=\"dataframe\">\n",
       "  <thead>\n",
       "    <tr style=\"text-align: right;\">\n",
       "      <th></th>\n",
       "      <th>id</th>\n",
       "      <th>nome</th>\n",
       "      <th>siglaPartido</th>\n",
       "      <th>siglaUf</th>\n",
       "      <th>urlFoto</th>\n",
       "      <th>email</th>\n",
       "    </tr>\n",
       "  </thead>\n",
       "  <tbody>\n",
       "    <tr>\n",
       "      <th>0</th>\n",
       "      <td>204554</td>\n",
       "      <td>Abílio Santana</td>\n",
       "      <td>PL</td>\n",
       "      <td>BA</td>\n",
       "      <td>source/204554.jpg</td>\n",
       "      <td>dep.abiliosantana@camara.leg.br</td>\n",
       "    </tr>\n",
       "    <tr>\n",
       "      <th>1</th>\n",
       "      <td>204521</td>\n",
       "      <td>Abou Anni</td>\n",
       "      <td>PSL</td>\n",
       "      <td>SP</td>\n",
       "      <td>source/204521.jpg</td>\n",
       "      <td>dep.abouanni@camara.leg.br</td>\n",
       "    </tr>\n",
       "    <tr>\n",
       "      <th>2</th>\n",
       "      <td>204379</td>\n",
       "      <td>Acácio Favacho</td>\n",
       "      <td>PROS</td>\n",
       "      <td>AP</td>\n",
       "      <td>source/204379.jpg</td>\n",
       "      <td>dep.acaciofavacho@camara.leg.br</td>\n",
       "    </tr>\n",
       "    <tr>\n",
       "      <th>3</th>\n",
       "      <td>204560</td>\n",
       "      <td>Adolfo Viana</td>\n",
       "      <td>PSDB</td>\n",
       "      <td>BA</td>\n",
       "      <td>source/204560.jpg</td>\n",
       "      <td>dep.adolfoviana@camara.leg.br</td>\n",
       "    </tr>\n",
       "    <tr>\n",
       "      <th>4</th>\n",
       "      <td>204528</td>\n",
       "      <td>Adriana Ventura</td>\n",
       "      <td>NOVO</td>\n",
       "      <td>SP</td>\n",
       "      <td>source/204528.jpg</td>\n",
       "      <td>dep.adrianaventura@camara.leg.br</td>\n",
       "    </tr>\n",
       "  </tbody>\n",
       "</table>\n",
       "</div>"
      ],
      "text/plain": [
       "       id             nome siglaPartido siglaUf            urlFoto  \\\n",
       "0  204554   Abílio Santana           PL      BA  source/204554.jpg   \n",
       "1  204521        Abou Anni          PSL      SP  source/204521.jpg   \n",
       "2  204379   Acácio Favacho         PROS      AP  source/204379.jpg   \n",
       "3  204560     Adolfo Viana         PSDB      BA  source/204560.jpg   \n",
       "4  204528  Adriana Ventura         NOVO      SP  source/204528.jpg   \n",
       "\n",
       "                              email  \n",
       "0   dep.abiliosantana@camara.leg.br  \n",
       "1        dep.abouanni@camara.leg.br  \n",
       "2   dep.acaciofavacho@camara.leg.br  \n",
       "3     dep.adolfoviana@camara.leg.br  \n",
       "4  dep.adrianaventura@camara.leg.br  "
      ]
     },
     "execution_count": 13,
     "metadata": {},
     "output_type": "execute_result"
    }
   ],
   "source": [
    "df.head()"
   ]
  },
  {
   "cell_type": "code",
   "execution_count": 14,
   "id": "5ec34ebd",
   "metadata": {},
   "outputs": [
    {
     "data": {
      "text/plain": [
       "<sqlite3.Cursor at 0x1dc68fde3b0>"
      ]
     },
     "execution_count": 14,
     "metadata": {},
     "output_type": "execute_result"
    }
   ],
   "source": [
    "cursor.execute(\"CREATE TABLE IF NOT EXISTS deputados (id int not null primary key, nome varchar(99), \"+\n",
    "               \"siglaPartido varchar(99), siglaUF varchar(2), urlFoto varchar(50), email varchar(199))\")"
   ]
  },
  {
   "cell_type": "markdown",
   "id": "122e1497",
   "metadata": {},
   "source": [
    "Já criamos nossa tabela, e agora precisamos inserir os dados. Para isso, vamos iterar as linhas (rows) do nosso DataFrame, executando uma cláusula SQL de inserção de dados na tabela a cada iteração. Aqui, é importante que a ordem das colunas escritas na cláusula SQL seja a mesma ordem das colunas do nosso DataFrame."
   ]
  },
  {
   "cell_type": "code",
   "execution_count": 15,
   "id": "77d1a4f8",
   "metadata": {},
   "outputs": [],
   "source": [
    "for row in df.iterrows():\n",
    "    cursor.execute(\"INSERT INTO deputados (id, nome, siglaPartido, siglaUF, urlFoto, email) \"+\n",
    "    \"VALUES ({})\".format(','.join(['?']*len(df.columns))), tuple(row[1]))"
   ]
  },
  {
   "cell_type": "markdown",
   "id": "949f85e0",
   "metadata": {},
   "source": [
    "Aqui, a cada iteração rodamos uma execução SQL para inserir os dados nas colunas especificadas. Ao invés de escrever os valores, usamos um *placeholder* para preencher os dados referentes a cada linha iterada. O *.format(', '.join(['?']*len(df.columns))* irá preencher o placeholder *{}* com pontos de interrogação separados por vírgulas. Isto é um \"coringa\" em SQL, e os dados passados estão em *tuple(row[1])*."
   ]
  },
  {
   "cell_type": "markdown",
   "id": "8349e14e",
   "metadata": {},
   "source": [
    "Nosso trabalho está quase terminando. Por último, tudo que precisamos fazer é dar um *commit* em todas as alterações que fizemos no banco de dados, e ele estará pronto!"
   ]
  },
  {
   "cell_type": "code",
   "execution_count": 16,
   "id": "ece8d565",
   "metadata": {},
   "outputs": [],
   "source": [
    "connector.commit()"
   ]
  }
 ],
 "metadata": {
  "kernelspec": {
   "display_name": "Python 3 (ipykernel)",
   "language": "python",
   "name": "python3"
  },
  "language_info": {
   "codemirror_mode": {
    "name": "ipython",
    "version": 3
   },
   "file_extension": ".py",
   "mimetype": "text/x-python",
   "name": "python",
   "nbconvert_exporter": "python",
   "pygments_lexer": "ipython3",
   "version": "3.9.7"
  }
 },
 "nbformat": 4,
 "nbformat_minor": 5
}
