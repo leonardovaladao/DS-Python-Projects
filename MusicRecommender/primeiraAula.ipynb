{
 "cells": [
  {
   "cell_type": "code",
   "execution_count": 1,
   "id": "b847411a",
   "metadata": {},
   "outputs": [
    {
     "data": {
      "text/html": [
       "\n",
       "            <div>\n",
       "                <p><b>SparkSession - in-memory</b></p>\n",
       "                \n",
       "        <div>\n",
       "            <p><b>SparkContext</b></p>\n",
       "\n",
       "            <p><a href=\"http://DESKTOP-KMS1OBO:4040\">Spark UI</a></p>\n",
       "\n",
       "            <dl>\n",
       "              <dt>Version</dt>\n",
       "                <dd><code>v3.0.3</code></dd>\n",
       "              <dt>Master</dt>\n",
       "                <dd><code>local[*]</code></dd>\n",
       "              <dt>AppName</dt>\n",
       "                <dd><code>Recomendador</code></dd>\n",
       "            </dl>\n",
       "        </div>\n",
       "        \n",
       "            </div>\n",
       "        "
      ],
      "text/plain": [
       "<pyspark.sql.session.SparkSession at 0x18e9e0da220>"
      ]
     },
     "execution_count": 1,
     "metadata": {},
     "output_type": "execute_result"
    }
   ],
   "source": [
    "import pyspark\n",
    "spark = (pyspark\n",
    "        .sql\n",
    "        .SparkSession.builder\n",
    "        .master(\"local[*]\")\n",
    "        .appName(\"Recomendador\")\n",
    "        .config(\"spark.driver.memory\", \"4g\")\n",
    "        .config(\"spark.executor.memory\", \"8g\")\n",
    "        .getOrCreate()\n",
    ")\n",
    "spark"
   ]
  },
  {
   "cell_type": "code",
   "execution_count": 6,
   "id": "9d9ec471",
   "metadata": {},
   "outputs": [
    {
     "name": "stdout",
     "output_type": "stream",
     "text": [
      "+-------------------+\n",
      "|              value|\n",
      "+-------------------+\n",
      "|       1000002 1 55|\n",
      "| 1000002 1000006 33|\n",
      "|  1000002 1000007 8|\n",
      "|1000002 1000009 144|\n",
      "|1000002 1000010 314|\n",
      "+-------------------+\n",
      "only showing top 5 rows\n",
      "\n"
     ]
    }
   ],
   "source": [
    "rawUserArtistData = spark.read.text(\"ds/user_artist_data.txt\")\n",
    "rawUserArtistData.show(5)"
   ]
  },
  {
   "cell_type": "code",
   "execution_count": 16,
   "id": "64473ca0",
   "metadata": {},
   "outputs": [
    {
     "name": "stdout",
     "output_type": "stream",
     "text": [
      "+-------+--------+---------+\n",
      "| userid|artistid|playcount|\n",
      "+-------+--------+---------+\n",
      "|1000002|       1|       55|\n",
      "|1000002| 1000006|       33|\n",
      "|1000002| 1000007|        8|\n",
      "|1000002| 1000009|      144|\n",
      "|1000002| 1000010|      314|\n",
      "+-------+--------+---------+\n",
      "only showing top 5 rows\n",
      "\n"
     ]
    }
   ],
   "source": [
    "from pyspark.sql.functions import split\n",
    "\n",
    "split_col = split(rawUserArtistData.value, \" \")\n",
    "\n",
    "userArtistDf = (rawUserArtistData\n",
    "                .withColumn(\"userid\", split_col.getItem(0))\n",
    "                .withColumn(\"artistid\", split_col.getItem(1))\n",
    "                .withColumn(\"playcount\", split_col.getItem(2))\n",
    "                .drop(rawUserArtistData.value)\n",
    "               )\n",
    "userArtistDf.show(5)"
   ]
  },
  {
   "cell_type": "code",
   "execution_count": 19,
   "id": "06a7c62c",
   "metadata": {},
   "outputs": [
    {
     "name": "stdout",
     "output_type": "stream",
     "text": [
      "+--------+--------------------+\n",
      "|artistid|         artist_name|\n",
      "+--------+--------------------+\n",
      "| 1134999|        06Crazy Life|\n",
      "| 6821360|        Pang Nakarin|\n",
      "|10113088|Terfel, Bartoli- ...|\n",
      "|10151459| The Flaming Sidebur|\n",
      "| 6826647|   Bodenstandig 3000|\n",
      "+--------+--------------------+\n",
      "only showing top 5 rows\n",
      "\n"
     ]
    }
   ],
   "source": [
    "rawArtistData = spark.read.text(\"ds/artist_data.txt\")\n",
    "split_col = split(rawArtistData.value, '\\t')\n",
    "artistData = (rawArtistData\n",
    ".withColumn(\"artistid\", split_col.getItem(0))\n",
    ".withColumn(\"artist_name\", split_col.getItem(1))\n",
    ".drop(\"value\"))\n",
    "artistData.show(5)"
   ]
  },
  {
   "cell_type": "code",
   "execution_count": 22,
   "id": "0660d494",
   "metadata": {},
   "outputs": [
    {
     "name": "stdout",
     "output_type": "stream",
     "text": [
      "+--------+-------+\n",
      "|   badid| goodid|\n",
      "+--------+-------+\n",
      "| 1092764|1000311|\n",
      "| 1095122|1000557|\n",
      "| 6708070|1007267|\n",
      "|10088054|1042317|\n",
      "| 1195917|1042317|\n",
      "+--------+-------+\n",
      "only showing top 5 rows\n",
      "\n"
     ]
    }
   ],
   "source": [
    "rawArtistAlias = spark.read.text(\"ds/artist_alias.txt\")\n",
    "split_col = split(rawArtistAlias.value, '\\t')\n",
    "artistAlias = (rawArtistAlias\n",
    "               .withColumn(\"badid\", split_col.getItem(0))\n",
    "               .withColumn(\"goodid\", split_col.getItem(1))\n",
    "               .drop(\"value\")\n",
    ")\n",
    "artistAlias.show(5)"
   ]
  },
  {
   "cell_type": "code",
   "execution_count": 24,
   "id": "f853b73a",
   "metadata": {},
   "outputs": [
    {
     "name": "stdout",
     "output_type": "stream",
     "text": [
      "+--------+--------------+\n",
      "|artistid|   artist_name|\n",
      "+--------+--------------+\n",
      "| 1000311| Steve Winwood|\n",
      "| 1092764|Winwood, Steve|\n",
      "+--------+--------------+\n",
      "\n"
     ]
    }
   ],
   "source": [
    "artistData.filter(artistData[\"artistid\"].isin(\"1092764\", \"1000311\")).show()"
   ]
  },
  {
   "cell_type": "code",
   "execution_count": 25,
   "id": "422f04f4",
   "metadata": {},
   "outputs": [
    {
     "data": {
      "text/plain": [
       "24296858"
      ]
     },
     "execution_count": 25,
     "metadata": {},
     "output_type": "execute_result"
    }
   ],
   "source": [
    "userArtistDf.count()"
   ]
  },
  {
   "cell_type": "code",
   "execution_count": 29,
   "id": "87d78749",
   "metadata": {},
   "outputs": [
    {
     "data": {
      "text/plain": [
       "22478"
      ]
     },
     "execution_count": 29,
     "metadata": {},
     "output_type": "execute_result"
    }
   ],
   "source": [
    "artistAlias.select(\"goodid\").distinct().count()"
   ]
  },
  {
   "cell_type": "code",
   "execution_count": 32,
   "id": "af30e72f",
   "metadata": {},
   "outputs": [],
   "source": [
    "from pyspark.sql.functions import count,avg"
   ]
  },
  {
   "cell_type": "code",
   "execution_count": 39,
   "id": "9330174a",
   "metadata": {
    "scrolled": false
   },
   "outputs": [
    {
     "name": "stdout",
     "output_type": "stream",
     "text": [
      "+------------------------+\n",
      "|Average Artists per User|\n",
      "+------------------------+\n",
      "|      164.04492576513562|\n",
      "+------------------------+\n",
      "\n"
     ]
    }
   ],
   "source": [
    "(userArtistDf\n",
    " .groupBy(\"userid\")\n",
    " .agg(count(\"artistid\").alias(\"artistCount\"))\n",
    " .agg(avg(\"artistCount\").alias(\"Average Artists per User\"))\n",
    ").show(5)"
   ]
  },
  {
   "cell_type": "markdown",
   "id": "6269f62b",
   "metadata": {},
   "source": [
    "Para a próxima aula: \n",
    "- Realizar o .join entre artistData e artistAlias para manter apenas os goodid's.\n",
    "- Realizar o .join entre userArtistDf e artistAlias para manter apenas os goodid's."
   ]
  }
 ],
 "metadata": {
  "kernelspec": {
   "display_name": "Python 3 (ipykernel)",
   "language": "python",
   "name": "python3"
  },
  "language_info": {
   "codemirror_mode": {
    "name": "ipython",
    "version": 3
   },
   "file_extension": ".py",
   "mimetype": "text/x-python",
   "name": "python",
   "nbconvert_exporter": "python",
   "pygments_lexer": "ipython3",
   "version": "3.9.7"
  }
 },
 "nbformat": 4,
 "nbformat_minor": 5
}
