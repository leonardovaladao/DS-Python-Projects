{
 "cells": [
  {
   "cell_type": "markdown",
   "id": "d1415993",
   "metadata": {},
   "source": [
    "# Qual o perfil do profissional mais requisitado no mercado de Data Science brasileiro?"
   ]
  },
  {
   "cell_type": "markdown",
   "id": "6935853a",
   "metadata": {},
   "source": [
    "Este notebook tem como propósito analisar, de forma exploratória, dados da pesquisa Data Hackers Survey 2019, que coletou informações de Cientistas de Dados brasileiros. A análise é feita de forma a descobrir quais são as características de perfil dos 10% de profissionais que ganham os maiores salários, ou seja, quais são as características do perfil do Cientista de Dados mais requisitados pelo mercado brasileiro."
   ]
  },
  {
   "cell_type": "markdown",
   "id": "352b7570",
   "metadata": {},
   "source": [
    "# Data Prep"
   ]
  },
  {
   "cell_type": "markdown",
   "id": "f3a6afdc",
   "metadata": {},
   "source": [
    "Parte reservada para coletar e filtrar os dados de forma a melhor utilizá-los."
   ]
  },
  {
   "cell_type": "code",
   "execution_count": 1,
   "id": "fc5cb589",
   "metadata": {},
   "outputs": [],
   "source": [
    "# Primeiro, ignorar todos os avisos\n",
    "import warnings\n",
    "warnings.filterwarnings('ignore')"
   ]
  },
  {
   "cell_type": "code",
   "execution_count": 2,
   "id": "46cbd971",
   "metadata": {},
   "outputs": [],
   "source": [
    "# Importar bibliotecas utilizadas neste notebook\n",
    "import kaggle\n",
    "import pandas as pd\n",
    "import numpy as np\n",
    "import seaborn as sns\n",
    "sns.set_style(\"whitegrid\")\n",
    "sns.set_context('talk',font_scale=0.9)\n",
    "import matplotlib.pyplot as plt\n",
    "%matplotlib inline\n",
    "\n",
    "# Baixar e importar dados com biblioteca da Kaggle\n",
    "kaggle.api.authenticate()\n",
    "kaggle.api.dataset_download_files('datahackers/pesquisa-data-hackers-2019', path='./', unzip=True)\n",
    "df = pd.read_csv(\"datahackers-survey-2019-anonymous-responses.csv\")"
   ]
  },
  {
   "cell_type": "code",
   "execution_count": 3,
   "id": "975d5d0c",
   "metadata": {},
   "outputs": [],
   "source": [
    "# Definir colunas relevantes para serem estudadas. \n",
    "# Cheque o arquivo data_dictionary.txt para verificar o significado de cada coluna\n",
    "cols = [\"('P1', 'age')\", \"('P2', 'gender')\", \"('P3', 'living_in_brasil')\", \"('P5', 'living_state')\", \n",
    "        \"('P8', 'degreee_level')\", \"('P10', 'job_situation')\", \"('P13', 'manager')\", \"('P16', 'salary_range')\",\n",
    "        \"('P17', 'time_experience_data_science')\", \"('P18', 'time_experience_before')\", \n",
    "        \"('P19', 'is_data_science_professional')\", \"('P20', 'linear_regression')\", \"('P20', 'logistic_regression')\",\n",
    "        \"('P20', 'glms')\", \"('P20', 'decision_tree')\", \"('P20', 'random_forest')\", \"('P20', 'neural_networks')\",\n",
    "        \"('P20', 'bayesian_inference')\", \"('P20', 'ensemble')\", \"('P20', 'svms')\", \"('P20', 'cnns')\", \"('P20', 'rnns')\",\n",
    "        \"('P20', 'hmms')\", \"('P20', 'gans')\", \"('P20', 'markov_chains')\", \"('P20', 'nlp')\", \n",
    "        \"('P20', 'gradient_boosted_machines')\", \"('P20', 'cluster_analysis')\", \"('P20', 'survival_analysis')\",\n",
    "        \"('P20', 'longitudinal_data_analysis')\", \"('P20', 'joint analysis')\", \"('P20', 'no_listed_methods')\",\n",
    "        \"('P21', 'sql_')\", \"('P21', 'r')\", \"('P21', 'python')\", \"('P21', 'c_c++_c#')\", \"('P21', 'dotnet')\",\n",
    "        \"('P21', 'java')\", \"('P21', 'julia')\", \"('P21', 'sas_stata')\", \"('P21', 'visual_basic_vba')\", \"('P21', 'scala')\",\n",
    "        \"('P21', 'matlab')\", \"('P21', 'php')\", \"('P21', 'no_listed_languages')\",\n",
    "        \"('P22', 'most_used_proggraming_languages')\", \"('P23', 'sql')\", \"('P23', 'nosql')\", \"('P23', 'images')\", \n",
    "        \"('P23', 'nlp')\", \"('P23', 'videos')\", \"('P23', 'sheets')\", \"('P23', 'other')\", \n",
    "        \"('P24', 'sql')\", \"('P24', 'nosql')\", \"('P24', 'imagens')\", \"('P24', 'nlp')\", \"('P24', 'vídeos')\",\n",
    "        \"('P24', 'planilhas')\", \"('P24', 'other')\", \"('P25', 'aws')\", \"('P25', 'gcp')\", \"('P25', 'azure')\", \"('P25', 'ibm')\",\n",
    "        \"('P25', 'on_premise_servers')\", \"('P25', 'cloud_própria')\", \"('P25', 'other')\", \"('P26', 'mysql')\", \n",
    "        \"('P26', 'oracle')\", \"('P26', 'sql_server')\", \"('P26', 'aurora')\", \"('P26', 'dynamodb')\", \"('P26', 'coachdb')\", \n",
    "        \"('P26', 'cassandra')\", \"('P26', 'mongodb')\", \"('P26', 'mariadb')\", \"('P26', 'datomic')\", \"('P26', 's3')\",\n",
    "        \"('P26', 'postgresql')\", \"('P26', 'elaticsearch')\", \"('P26', 'db2')\", \"('P26', 'ms_access')\", \"('P26', 'sqlite')\",\n",
    "        \"('P26', 'sybase')\", \"('P26', 'firebase')\", \"('P26', 'vertica')\", \"('P26', 'redis')\", \"('P26', 'neo4j')\",\n",
    "        \"('P26', 'google_bigtable')\", \"('P26', 'hbase')\", \"('P26', 'other')\", \"('P27', 'microsoft_powerbi')\",\n",
    "        \"('P27', 'qlik_view_qlik_sense')\", \"('P27', 'tableau')\", \"('P27', 'metabase')\", \"('P27', 'superset')\",\n",
    "        \"('P27', 'redash')\", \"('P27', 'microstrategy')\", \"('P27', 'ibm_analytics_cognos')\", \n",
    "        \"('P27', 'sap_business_objects')\", \"('P27', 'oracle_business_intelligence')\", \"('P27', 'birst')\", \n",
    "        \"('P27', 'looker')\", \"('P27', 'google_data_studio')\", \"('P27', 'only_excel_gsheets')\", \n",
    "        \"('P27', 'no_bi_tool_at_work')\", \"('P27', 'other')\", \"('P28', 'sql_&_stored_procedures')\", \n",
    "        \"('P28', 'apache_airflow')\", \"('P28', 'luigi')\", \"('P28', 'aws_glue')\", \"('P28', 'talend')\",\n",
    "        \"('P28', 'pentaho')\", \"('P28', 'alteryx')\", \"('P28', 'oracle_data_integrator')\", \"('P28', 'ibm_data_stage')\",\n",
    "        \"('P28', 'sap_bw_etl')\", \"('P28', 'siss_sql_server_integration_services')\", \"('P28', 'other')\", \n",
    "        \"('P29', 'have_data_warehouse')\", \"('P30', 'google_bigquery')\", \"('P30', 'aws_redshift')\", \"('P30', 'snowflake')\", \n",
    "        \"('P30', 'oracle')\", \"('P30', 'postgres_mysql')\", \"('P30', 'ibm')\", \"('P30', 'teradata')\", \n",
    "        \"('P30', 'microsoft_azure')\", \"('P30', 'do_not_know')\", \"('P30', 'other')\", \"('P33', 'telegram_groups')\",\n",
    "        \"('P33', 'whatsapp_groups')\", \"('P33', 'youtube_channels')\", \"('P33', 'other_brasilian_blogs')\", \n",
    "        \"('P33', 'other_slack_channels')\", \"('P33', 'twitter')\", \"('P33', 'abroad_blogs')\", \"('P33', 'abroad_podcasts')\", \n",
    "        \"('P33', 'meetups_and_events')\", \"('P33', 'only_data_hackers')\", \"('P33', 'other')\", \"('P34', 'udacity')\",\n",
    "        \"('P34', 'coursera')\", \"('P34', 'udemy')\", \"('P34', 'height')\", \"('P34', 'edx')\", \"('P34', 'data_camp')\",\n",
    "        \"('P34', 'data_quest')\", \"('P34', 'kaggle_learn')\", \"('P34', 'online_courses')\", \"('P34', 'other')\",\n",
    "        \"('P35', 'data_science_plataforms_preference')\", \"('P35', 'other')\", \"('D1', 'living_macroregion')\",\n",
    "        \"('D3', 'anonymized_degree_area')\", \"('D4', 'anonymized_market_sector')\", \"('D5', 'anonymized_manager_level')\",\n",
    "        \"('D6', 'anonymized_role')\"]\n",
    "\n",
    "# Redefinir dataframe\n",
    "df = df[cols]"
   ]
  },
  {
   "cell_type": "code",
   "execution_count": 4,
   "id": "8ebb1bb4",
   "metadata": {},
   "outputs": [],
   "source": [
    "# Transformar dados categóricos de salários em dados numéricos, considerando a média \n",
    "# trazida pelos dados categóricos\n",
    "df[\"Sal\"] = df[\"('P16', 'salary_range')\"].map({'de R$ 1.001/mês a R$ 2.000/mês': 1500,\n",
    "                                  'de R$ 2.001/mês a R$ 3000/mês': 2500,\n",
    "                                  'de R$ 4.001/mês a R$ 6.000/mês': 5000,\n",
    "                                  'de R$ 6.001/mês a R$ 8.000/mês': 7000,\n",
    "                                  'de R$ 3.001/mês a R$ 4.000/mês': 3500,\n",
    "                                  'de R$ 8.001/mês a R$ 12.000/mês': 10000,\n",
    "                                   'de R$ 12.001/mês a R$ 16.000/mês': 14000,\n",
    "                                  'Menos de R$ 1.000/mês':1000,\n",
    "                                   'de R$ 16.001/mês a R$ 20.000/mês': 18000,\n",
    "                                  'de R$ 20.001/mês a R$ 25.000/mês':22500,\n",
    "                                  'Acima de R$ 25.001/mês':25000,\n",
    "                                  np.nan: np.nan,})"
   ]
  },
  {
   "cell_type": "markdown",
   "id": "173b6a79",
   "metadata": {},
   "source": [
    "# Análise Geral"
   ]
  },
  {
   "cell_type": "code",
   "execution_count": 5,
   "id": "b78c6166",
   "metadata": {},
   "outputs": [
    {
     "data": {
      "image/png": "[encoded data removed]",
      "text/plain": [
       "<Figure size 864x432 with 1 Axes>"
      ]
     },
     "metadata": {
      "needs_background": "light"
     },
     "output_type": "display_data"
    }
   ],
   "source": [
    "fig = plt.figure(figsize=(12,6))\n",
    "sns.countplot(df['Sal'], color=\"white\", lw=2,\n",
    "              edgecolor=sns.color_palette(\"mako\", 10))\n",
    "plt.title(\"Distribuição bruta dos salários de Cientistas de Dados brasileiros coletados no estudo estatístico da DataSurvey 2019\")\n",
    "plt.xlabel(\"Faixa Salarial\")\n",
    "plt.ylabel(\"Contagem\")\n",
    "plt.show()"
   ]
  },
  {
   "cell_type": "code",
   "execution_count": 6,
   "id": "0e1bf5ef",
   "metadata": {},
   "outputs": [
    {
     "name": "stdout",
     "output_type": "stream",
     "text": [
      "Quantos dados há na pesquisa? \n",
      "R: 1527\n",
      "Qual o salário médio de quem respondeu? \n",
      "R: R$6283.24\n",
      "Qual o salário mediano ? \n",
      "R: R$5000.00\n",
      "Qual o desvio padrão da medida? \n",
      "R: R$4633.44\n"
     ]
    }
   ],
   "source": [
    "print(\"Quantos dados há na pesquisa? \\nR: {:.0f}\".format(df[\"Sal\"].count()))\n",
    "print(\"Qual o salário médio de quem respondeu? \\nR: R${:.2f}\".format(np.mean(df[\"Sal\"])))\n",
    "print(\"Qual o salário mediano ? \\nR: R${:.2f}\".format(np.median(df[\"Sal\"].dropna())))\n",
    "print(\"Qual o desvio padrão da medida? \\nR: R${:.2f}\".format(np.std(df[\"Sal\"])))"
   ]
  },
  {
   "cell_type": "markdown",
   "id": "a65d1f84",
   "metadata": {},
   "source": [
    "# Best 10%"
   ]
  },
  {
   "cell_type": "code",
   "execution_count": 7,
   "id": "3462f38e",
   "metadata": {},
   "outputs": [],
   "source": [
    "df_best = df.sort_values(by=\"Sal\", ascending=False).head(int(len(df)*0.1))\n",
    "df_best = df_best[\n",
    "    (df_best[\"('P19', 'is_data_science_professional')\"]==1) &\n",
    "    (df_best[\"('P3', 'living_in_brasil')\"]==1)\n",
    "]"
   ]
  },
  {
   "cell_type": "code",
   "execution_count": 8,
   "id": "3957c67a",
   "metadata": {},
   "outputs": [
    {
     "name": "stdout",
     "output_type": "stream",
     "text": [
      "Qual o salário médio dos melhores profissionais? \n",
      "R: R$15795.45\n",
      "Qual o salário mediano  dos melhores profissionais? \n",
      "R: R$14000.00\n",
      "Qual o desvio padrão da medida? \n",
      "R: R$3790.12\n"
     ]
    },
    {
     "data": {
      "image/png": "[encoded data removed]",
      "text/plain": [
       "<Figure size 864x432 with 1 Axes>"
      ]
     },
     "metadata": {
      "needs_background": "light"
     },
     "output_type": "display_data"
    }
   ],
   "source": [
    "print(\"Qual o salário médio dos melhores profissionais? \\nR: R${:.2f}\".format(np.average(df_best[\"Sal\"])))\n",
    "print(\"Qual o salário mediano  dos melhores profissionais? \\nR: R${:.2f}\".format(np.median(df_best[\"Sal\"])))\n",
    "print(\"Qual o desvio padrão da medida? \\nR: R${:.2f}\".format(np.std(df_best[\"Sal\"])))\n",
    "\n",
    "\n",
    "fig = plt.figure(figsize=(12,6))\n",
    "sns.countplot(df_best['Sal'], color=\"white\", lw=2,\n",
    "              edgecolor=sns.color_palette(\"mako\", 10))\n",
    "plt.title(\"Distribuição de salários dos 10% melhores profissionais\")\n",
    "plt.xlabel(\"Faixa Salarial\")\n",
    "plt.ylabel(\"Contagem\")\n",
    "plt.show()"
   ]
  },
  {
   "cell_type": "code",
   "execution_count": 9,
   "id": "5f8e0776",
   "metadata": {},
   "outputs": [
    {
     "name": "stdout",
     "output_type": "stream",
     "text": [
      "Qual a idade média dos melhores profissionais? R: 35\n",
      "A idade varia tipicamente entre 29 e 42\n"
     ]
    }
   ],
   "source": [
    "print(\"Qual a idade média dos melhores profissionais? R: {:.0f}\".format(\n",
    "    df_best[\"('P1', 'age')\"].mean()\n",
    "))\n",
    "print(\"A idade varia tipicamente entre {:.0f} e {:.0f}\".format(\n",
    "    df_best[\"('P1', 'age')\"].mean()-df_best[\"('P1', 'age')\"].std(),\n",
    "    df_best[\"('P1', 'age')\"].mean()+df_best[\"('P1', 'age')\"].std()\n",
    "))"
   ]
  },
  {
   "cell_type": "code",
   "execution_count": 10,
   "id": "992cd122",
   "metadata": {},
   "outputs": [
    {
     "name": "stdout",
     "output_type": "stream",
     "text": [
      "Qual a distribuição de gênero dos melhores profissionais?\n"
     ]
    },
    {
     "data": {
      "text/plain": [
       "Masculino    94\n",
       "Feminino     16\n",
       "Name: ('P2', 'gender'), dtype: int64"
      ]
     },
     "execution_count": 10,
     "metadata": {},
     "output_type": "execute_result"
    }
   ],
   "source": [
    "print(\"Qual a distribuição de gênero dos melhores profissionais?\")\n",
    "df_best[\"('P2', 'gender')\"].value_counts()"
   ]
  },
  {
   "cell_type": "code",
   "execution_count": 11,
   "id": "1dfb3c36",
   "metadata": {},
   "outputs": [
    {
     "name": "stdout",
     "output_type": "stream",
     "text": [
      "\n",
      "Qual a distribuição de UF?\n",
      "São Paulo (SP)            62\n",
      "Minas Gerais (MG)         12\n",
      "Rio de Janeiro (RJ)       10\n",
      "Paraná (PR)                5\n",
      "Rio Grande do Sul (RS)     4\n",
      "Espírito Santo (ES)        2\n",
      "Name: ('P5', 'living_state'), dtype: int64\n",
      "\n",
      "Qual o degree médio?\n",
      "Pós-graduação                 51\n",
      "Graduação/Bacharelado         23\n",
      "Mestrado                      18\n",
      "Doutorado ou Phd              13\n",
      "Estudante de Graduação         3\n",
      "Não tenho graduação formal     2\n",
      "Name: ('P8', 'degreee_level'), dtype: int64\n"
     ]
    }
   ],
   "source": [
    "print(\"\\nQual a distribuição de UF?\")\n",
    "print(df_best[\"('P5', 'living_state')\"].value_counts())\n",
    "\n",
    "print(\"\\nQual o degree médio?\")\n",
    "print(df_best[\"('P8', 'degreee_level')\"].value_counts())"
   ]
  },
  {
   "cell_type": "code",
   "execution_count": 12,
   "id": "f38b9f61",
   "metadata": {},
   "outputs": [
    {
     "name": "stdout",
     "output_type": "stream",
     "text": [
      "\n",
      "Qual o job situation?\n"
     ]
    },
    {
     "data": {
      "text/plain": [
       "Empregado (CTL)                     62\n",
       "Empreendedor ou Empregado (CNPJ)    35\n",
       "Servidor Público                    12\n",
       "Prefiro não dizer                    1\n",
       "Name: ('P10', 'job_situation'), dtype: int64"
      ]
     },
     "execution_count": 12,
     "metadata": {},
     "output_type": "execute_result"
    }
   ],
   "source": [
    "print(\"\\nQual o job situation?\")\n",
    "df_best[\"('P10', 'job_situation')\"].value_counts()"
   ]
  },
  {
   "cell_type": "code",
   "execution_count": 13,
   "id": "9e6c6800",
   "metadata": {},
   "outputs": [
    {
     "name": "stdout",
     "output_type": "stream",
     "text": [
      "\n",
      " Essas pessoas ocupam posição de liderança?\n"
     ]
    },
    {
     "data": {
      "text/plain": [
       "1.0    59\n",
       "0.0    51\n",
       "Name: ('P13', 'manager'), dtype: int64"
      ]
     },
     "execution_count": 13,
     "metadata": {},
     "output_type": "execute_result"
    }
   ],
   "source": [
    "print(\"\\n Essas pessoas ocupam posição de liderança?\")\n",
    "df_best[\"('P13', 'manager')\"].value_counts()"
   ]
  },
  {
   "cell_type": "code",
   "execution_count": 14,
   "id": "808639d8",
   "metadata": {},
   "outputs": [
    {
     "name": "stdout",
     "output_type": "stream",
     "text": [
      "\n",
      " Qual a faixa salarial mais comum?\n"
     ]
    },
    {
     "data": {
      "text/plain": [
       "de R$ 12.001/mês a R$ 16.000/mês    54\n",
       "de R$ 16.001/mês a R$ 20.000/mês    28\n",
       "de R$ 8.001/mês a R$ 12.000/mês     13\n",
       "de R$ 20.001/mês a R$ 25.000/mês    11\n",
       "Acima de R$ 25.001/mês               4\n",
       "Name: ('P16', 'salary_range'), dtype: int64"
      ]
     },
     "execution_count": 14,
     "metadata": {},
     "output_type": "execute_result"
    }
   ],
   "source": [
    "print(\"\\n Qual a faixa salarial mais comum?\")\n",
    "df_best[\"('P16', 'salary_range')\"].value_counts()"
   ]
  },
  {
   "cell_type": "code",
   "execution_count": 15,
   "id": "243b54f5",
   "metadata": {},
   "outputs": [
    {
     "name": "stdout",
     "output_type": "stream",
     "text": [
      "\n",
      " Qual o tempo de experiência?\n"
     ]
    },
    {
     "data": {
      "text/plain": [
       "Mais de 10 anos                           33\n",
       "de 6 a 10 anos                            30\n",
       "de 4 a 5 anos                             23\n",
       "de 2 a 3 anos                             11\n",
       "de 1 a 2 anos                              9\n",
       "Menos de 1 ano                             3\n",
       "Não tenho experiência na área de dados     1\n",
       "Name: ('P17', 'time_experience_data_science'), dtype: int64"
      ]
     },
     "execution_count": 15,
     "metadata": {},
     "output_type": "execute_result"
    }
   ],
   "source": [
    "print(\"\\n Qual o tempo de experiência?\")\n",
    "df_best[\"('P17', 'time_experience_data_science')\"].value_counts()"
   ]
  },
  {
   "cell_type": "code",
   "execution_count": 16,
   "id": "2a2864ee",
   "metadata": {},
   "outputs": [
    {
     "name": "stdout",
     "output_type": "stream",
     "text": [
      "\n",
      " Qual o tempo de experiência?\n"
     ]
    },
    {
     "data": {
      "text/plain": [
       "Não tive experiência na área de TI/Engenharia de Software antes de começar a trabalhar na área de dados    35\n",
       "Mais de 10 anos                                                                                            21\n",
       "de 6 a 10 anos                                                                                             15\n",
       "Menos de 1 ano                                                                                             12\n",
       "de 1 a 2 anos                                                                                              10\n",
       "de 4 a 5 anos                                                                                               9\n",
       "de 2 a 3 anos                                                                                               8\n",
       "Name: ('P18', 'time_experience_before'), dtype: int64"
      ]
     },
     "execution_count": 16,
     "metadata": {},
     "output_type": "execute_result"
    }
   ],
   "source": [
    "print(\"\\n Qual o tempo de experiência?\")\n",
    "df_best[\"('P18', 'time_experience_before')\"].value_counts()"
   ]
  },
  {
   "cell_type": "code",
   "execution_count": 17,
   "id": "4012aff5",
   "metadata": {},
   "outputs": [
    {
     "name": "stdout",
     "output_type": "stream",
     "text": [
      "\n",
      " Qual as metodologias mais utilizadas?\n"
     ]
    },
    {
     "data": {
      "text/html": [
       "<div>\n",
       "<style scoped>\n",
       "    .dataframe tbody tr th:only-of-type {\n",
       "        vertical-align: middle;\n",
       "    }\n",
       "\n",
       "    .dataframe tbody tr th {\n",
       "        vertical-align: top;\n",
       "    }\n",
       "\n",
       "    .dataframe thead th {\n",
       "        text-align: right;\n",
       "    }\n",
       "</style>\n",
       "<table border=\"1\" class=\"dataframe\">\n",
       "  <thead>\n",
       "    <tr style=\"text-align: right;\">\n",
       "      <th></th>\n",
       "      <th>cols</th>\n",
       "      <th>percentage</th>\n",
       "    </tr>\n",
       "  </thead>\n",
       "  <tbody>\n",
       "    <tr>\n",
       "      <th>0</th>\n",
       "      <td>('P20', 'linear_regression')</td>\n",
       "      <td>76.363636</td>\n",
       "    </tr>\n",
       "    <tr>\n",
       "      <th>3</th>\n",
       "      <td>('P20', 'decision_tree')</td>\n",
       "      <td>70.909091</td>\n",
       "    </tr>\n",
       "    <tr>\n",
       "      <th>1</th>\n",
       "      <td>('P20', 'logistic_regression')</td>\n",
       "      <td>64.545455</td>\n",
       "    </tr>\n",
       "    <tr>\n",
       "      <th>16</th>\n",
       "      <td>('P20', 'cluster_analysis')</td>\n",
       "      <td>62.727273</td>\n",
       "    </tr>\n",
       "    <tr>\n",
       "      <th>4</th>\n",
       "      <td>('P20', 'random_forest')</td>\n",
       "      <td>58.181818</td>\n",
       "    </tr>\n",
       "  </tbody>\n",
       "</table>\n",
       "</div>"
      ],
      "text/plain": [
       "                              cols  percentage\n",
       "0     ('P20', 'linear_regression')   76.363636\n",
       "3         ('P20', 'decision_tree')   70.909091\n",
       "1   ('P20', 'logistic_regression')   64.545455\n",
       "16     ('P20', 'cluster_analysis')   62.727273\n",
       "4         ('P20', 'random_forest')   58.181818"
      ]
     },
     "execution_count": 17,
     "metadata": {},
     "output_type": "execute_result"
    }
   ],
   "source": [
    "print(\"\\n Qual as metodologias mais utilizadas?\")\n",
    "tech_best = [col for col in df_best if col.startswith(\"('P20\") ]\n",
    "percs = [df_best[tech_best][col].sum() /len(df_best)*100 for col in df_best[tech_best].columns]\n",
    "\n",
    "df_best_tech = pd.DataFrame()\n",
    "df_best_tech[\"cols\"]=df_best[tech_best].columns\n",
    "df_best_tech[\"percentage\"]=percs\n",
    "\n",
    "df_best_tech.sort_values(by=\"percentage\", ascending=False).head(5)"
   ]
  },
  {
   "cell_type": "code",
   "execution_count": 18,
   "id": "e4e68e8a",
   "metadata": {},
   "outputs": [
    {
     "name": "stdout",
     "output_type": "stream",
     "text": [
      "\n",
      " Quais as linguagens mais utilizadas?\n"
     ]
    },
    {
     "data": {
      "text/html": [
       "<div>\n",
       "<style scoped>\n",
       "    .dataframe tbody tr th:only-of-type {\n",
       "        vertical-align: middle;\n",
       "    }\n",
       "\n",
       "    .dataframe tbody tr th {\n",
       "        vertical-align: top;\n",
       "    }\n",
       "\n",
       "    .dataframe thead th {\n",
       "        text-align: right;\n",
       "    }\n",
       "</style>\n",
       "<table border=\"1\" class=\"dataframe\">\n",
       "  <thead>\n",
       "    <tr style=\"text-align: right;\">\n",
       "      <th></th>\n",
       "      <th>cols</th>\n",
       "      <th>percentage</th>\n",
       "    </tr>\n",
       "  </thead>\n",
       "  <tbody>\n",
       "    <tr>\n",
       "      <th>2</th>\n",
       "      <td>('P21', 'python')</td>\n",
       "      <td>87.272727</td>\n",
       "    </tr>\n",
       "    <tr>\n",
       "      <th>0</th>\n",
       "      <td>('P21', 'sql_')</td>\n",
       "      <td>82.727273</td>\n",
       "    </tr>\n",
       "    <tr>\n",
       "      <th>1</th>\n",
       "      <td>('P21', 'r')</td>\n",
       "      <td>44.545455</td>\n",
       "    </tr>\n",
       "    <tr>\n",
       "      <th>8</th>\n",
       "      <td>('P21', 'visual_basic_vba')</td>\n",
       "      <td>12.727273</td>\n",
       "    </tr>\n",
       "    <tr>\n",
       "      <th>5</th>\n",
       "      <td>('P21', 'java')</td>\n",
       "      <td>10.909091</td>\n",
       "    </tr>\n",
       "  </tbody>\n",
       "</table>\n",
       "</div>"
      ],
      "text/plain": [
       "                          cols  percentage\n",
       "2            ('P21', 'python')   87.272727\n",
       "0              ('P21', 'sql_')   82.727273\n",
       "1                 ('P21', 'r')   44.545455\n",
       "8  ('P21', 'visual_basic_vba')   12.727273\n",
       "5              ('P21', 'java')   10.909091"
      ]
     },
     "execution_count": 18,
     "metadata": {},
     "output_type": "execute_result"
    }
   ],
   "source": [
    "print(\"\\n Quais as linguagens mais utilizadas?\")\n",
    "lang_best = [col for col in df_best if col.startswith(\"('P21\") ]\n",
    "percs = [df_best[lang_best][col].sum() /len(df_best)*100 for col in df_best[lang_best].columns]\n",
    "\n",
    "df_best_lang = pd.DataFrame()\n",
    "df_best_lang[\"cols\"]=df_best[lang_best].columns\n",
    "df_best_lang[\"percentage\"]=percs\n",
    "\n",
    "df_best_lang.sort_values(by=\"percentage\", ascending=False).head(5)"
   ]
  },
  {
   "cell_type": "code",
   "execution_count": 19,
   "id": "e4ca5653",
   "metadata": {},
   "outputs": [
    {
     "name": "stdout",
     "output_type": "stream",
     "text": [
      "\n",
      " Quais as fontes de dados mais utilizadas?\n"
     ]
    },
    {
     "data": {
      "text/html": [
       "<div>\n",
       "<style scoped>\n",
       "    .dataframe tbody tr th:only-of-type {\n",
       "        vertical-align: middle;\n",
       "    }\n",
       "\n",
       "    .dataframe tbody tr th {\n",
       "        vertical-align: top;\n",
       "    }\n",
       "\n",
       "    .dataframe thead th {\n",
       "        text-align: right;\n",
       "    }\n",
       "</style>\n",
       "<table border=\"1\" class=\"dataframe\">\n",
       "  <thead>\n",
       "    <tr style=\"text-align: right;\">\n",
       "      <th></th>\n",
       "      <th>cols</th>\n",
       "      <th>percentage</th>\n",
       "    </tr>\n",
       "  </thead>\n",
       "  <tbody>\n",
       "    <tr>\n",
       "      <th>0</th>\n",
       "      <td>('P23', 'sql')</td>\n",
       "      <td>97.272727</td>\n",
       "    </tr>\n",
       "    <tr>\n",
       "      <th>5</th>\n",
       "      <td>('P23', 'sheets')</td>\n",
       "      <td>86.363636</td>\n",
       "    </tr>\n",
       "    <tr>\n",
       "      <th>1</th>\n",
       "      <td>('P23', 'nosql')</td>\n",
       "      <td>60.000000</td>\n",
       "    </tr>\n",
       "    <tr>\n",
       "      <th>3</th>\n",
       "      <td>('P23', 'nlp')</td>\n",
       "      <td>47.272727</td>\n",
       "    </tr>\n",
       "    <tr>\n",
       "      <th>2</th>\n",
       "      <td>('P23', 'images')</td>\n",
       "      <td>27.272727</td>\n",
       "    </tr>\n",
       "  </tbody>\n",
       "</table>\n",
       "</div>"
      ],
      "text/plain": [
       "                cols  percentage\n",
       "0     ('P23', 'sql')   97.272727\n",
       "5  ('P23', 'sheets')   86.363636\n",
       "1   ('P23', 'nosql')   60.000000\n",
       "3     ('P23', 'nlp')   47.272727\n",
       "2  ('P23', 'images')   27.272727"
      ]
     },
     "execution_count": 19,
     "metadata": {},
     "output_type": "execute_result"
    }
   ],
   "source": [
    "print(\"\\n Quais as fontes de dados mais utilizadas?\")\n",
    "source_best = [col for col in df_best if col.startswith(\"('P23\") ]\n",
    "percs = [df_best[source_best][col].sum() /len(df_best)*100 for col in df_best[source_best].columns]\n",
    "\n",
    "df_source_best = pd.DataFrame()\n",
    "df_source_best[\"cols\"]=df_best[source_best].columns\n",
    "df_source_best[\"percentage\"]=percs\n",
    "\n",
    "df_source_best.sort_values(by=\"percentage\", ascending=False).head(5)"
   ]
  },
  {
   "cell_type": "code",
   "execution_count": 20,
   "id": "b89256eb",
   "metadata": {},
   "outputs": [
    {
     "name": "stdout",
     "output_type": "stream",
     "text": [
      "\n",
      " Quais as clouds mais utilizadas?\n"
     ]
    },
    {
     "data": {
      "text/html": [
       "<div>\n",
       "<style scoped>\n",
       "    .dataframe tbody tr th:only-of-type {\n",
       "        vertical-align: middle;\n",
       "    }\n",
       "\n",
       "    .dataframe tbody tr th {\n",
       "        vertical-align: top;\n",
       "    }\n",
       "\n",
       "    .dataframe thead th {\n",
       "        text-align: right;\n",
       "    }\n",
       "</style>\n",
       "<table border=\"1\" class=\"dataframe\">\n",
       "  <thead>\n",
       "    <tr style=\"text-align: right;\">\n",
       "      <th></th>\n",
       "      <th>cols</th>\n",
       "      <th>percentage</th>\n",
       "    </tr>\n",
       "  </thead>\n",
       "  <tbody>\n",
       "    <tr>\n",
       "      <th>0</th>\n",
       "      <td>('P25', 'aws')</td>\n",
       "      <td>47.272727</td>\n",
       "    </tr>\n",
       "    <tr>\n",
       "      <th>1</th>\n",
       "      <td>('P25', 'gcp')</td>\n",
       "      <td>30.909091</td>\n",
       "    </tr>\n",
       "    <tr>\n",
       "      <th>2</th>\n",
       "      <td>('P25', 'azure')</td>\n",
       "      <td>30.909091</td>\n",
       "    </tr>\n",
       "    <tr>\n",
       "      <th>4</th>\n",
       "      <td>('P25', 'on_premise_servers')</td>\n",
       "      <td>25.454545</td>\n",
       "    </tr>\n",
       "    <tr>\n",
       "      <th>5</th>\n",
       "      <td>('P25', 'cloud_própria')</td>\n",
       "      <td>17.272727</td>\n",
       "    </tr>\n",
       "  </tbody>\n",
       "</table>\n",
       "</div>"
      ],
      "text/plain": [
       "                            cols  percentage\n",
       "0                 ('P25', 'aws')   47.272727\n",
       "1                 ('P25', 'gcp')   30.909091\n",
       "2               ('P25', 'azure')   30.909091\n",
       "4  ('P25', 'on_premise_servers')   25.454545\n",
       "5       ('P25', 'cloud_própria')   17.272727"
      ]
     },
     "execution_count": 20,
     "metadata": {},
     "output_type": "execute_result"
    }
   ],
   "source": [
    "print(\"\\n Quais as clouds mais utilizadas?\")\n",
    "source_best = [col for col in df_best if col.startswith(\"('P25\") ]\n",
    "percs = [df_best[source_best][col].sum() /len(df_best)*100 for col in df_best[source_best].columns]\n",
    "\n",
    "df_source_best = pd.DataFrame()\n",
    "df_source_best[\"cols\"]=df_best[source_best].columns\n",
    "df_source_best[\"percentage\"]=percs\n",
    "\n",
    "df_source_best.sort_values(by=\"percentage\", ascending=False).head(5)"
   ]
  },
  {
   "cell_type": "code",
   "execution_count": 21,
   "id": "83990829",
   "metadata": {},
   "outputs": [
    {
     "name": "stdout",
     "output_type": "stream",
     "text": [
      "\n",
      " Quais os DBs mais utilizadas?\n"
     ]
    },
    {
     "data": {
      "text/html": [
       "<div>\n",
       "<style scoped>\n",
       "    .dataframe tbody tr th:only-of-type {\n",
       "        vertical-align: middle;\n",
       "    }\n",
       "\n",
       "    .dataframe tbody tr th {\n",
       "        vertical-align: top;\n",
       "    }\n",
       "\n",
       "    .dataframe thead th {\n",
       "        text-align: right;\n",
       "    }\n",
       "</style>\n",
       "<table border=\"1\" class=\"dataframe\">\n",
       "  <thead>\n",
       "    <tr style=\"text-align: right;\">\n",
       "      <th></th>\n",
       "      <th>cols</th>\n",
       "      <th>percentage</th>\n",
       "    </tr>\n",
       "  </thead>\n",
       "  <tbody>\n",
       "    <tr>\n",
       "      <th>2</th>\n",
       "      <td>('P26', 'sql_server')</td>\n",
       "      <td>46.363636</td>\n",
       "    </tr>\n",
       "    <tr>\n",
       "      <th>0</th>\n",
       "      <td>('P26', 'mysql')</td>\n",
       "      <td>40.000000</td>\n",
       "    </tr>\n",
       "    <tr>\n",
       "      <th>11</th>\n",
       "      <td>('P26', 'postgresql')</td>\n",
       "      <td>39.090909</td>\n",
       "    </tr>\n",
       "    <tr>\n",
       "      <th>1</th>\n",
       "      <td>('P26', 'oracle')</td>\n",
       "      <td>38.181818</td>\n",
       "    </tr>\n",
       "    <tr>\n",
       "      <th>7</th>\n",
       "      <td>('P26', 'mongodb')</td>\n",
       "      <td>32.727273</td>\n",
       "    </tr>\n",
       "  </tbody>\n",
       "</table>\n",
       "</div>"
      ],
      "text/plain": [
       "                     cols  percentage\n",
       "2   ('P26', 'sql_server')   46.363636\n",
       "0        ('P26', 'mysql')   40.000000\n",
       "11  ('P26', 'postgresql')   39.090909\n",
       "1       ('P26', 'oracle')   38.181818\n",
       "7      ('P26', 'mongodb')   32.727273"
      ]
     },
     "execution_count": 21,
     "metadata": {},
     "output_type": "execute_result"
    }
   ],
   "source": [
    "print(\"\\n Quais os DBs mais utilizadas?\")\n",
    "source_best = [col for col in df_best if col.startswith(\"('P26\") ]\n",
    "percs = [df_best[source_best][col].sum() /len(df_best)*100 for col in df_best[source_best].columns]\n",
    "\n",
    "df_source_best = pd.DataFrame()\n",
    "df_source_best[\"cols\"]=df_best[source_best].columns\n",
    "df_source_best[\"percentage\"]=percs\n",
    "\n",
    "df_source_best.sort_values(by=\"percentage\", ascending=False).head(5)"
   ]
  },
  {
   "cell_type": "code",
   "execution_count": 22,
   "id": "0d7b0b00",
   "metadata": {},
   "outputs": [
    {
     "name": "stdout",
     "output_type": "stream",
     "text": [
      "\n",
      " Quais as ferramentas de BI mais utilizadas?\n"
     ]
    },
    {
     "data": {
      "text/html": [
       "<div>\n",
       "<style scoped>\n",
       "    .dataframe tbody tr th:only-of-type {\n",
       "        vertical-align: middle;\n",
       "    }\n",
       "\n",
       "    .dataframe tbody tr th {\n",
       "        vertical-align: top;\n",
       "    }\n",
       "\n",
       "    .dataframe thead th {\n",
       "        text-align: right;\n",
       "    }\n",
       "</style>\n",
       "<table border=\"1\" class=\"dataframe\">\n",
       "  <thead>\n",
       "    <tr style=\"text-align: right;\">\n",
       "      <th></th>\n",
       "      <th>cols</th>\n",
       "      <th>percentage</th>\n",
       "    </tr>\n",
       "  </thead>\n",
       "  <tbody>\n",
       "    <tr>\n",
       "      <th>0</th>\n",
       "      <td>('P27', 'microsoft_powerbi')</td>\n",
       "      <td>49.090909</td>\n",
       "    </tr>\n",
       "    <tr>\n",
       "      <th>2</th>\n",
       "      <td>('P27', 'tableau')</td>\n",
       "      <td>30.909091</td>\n",
       "    </tr>\n",
       "    <tr>\n",
       "      <th>3</th>\n",
       "      <td>('P27', 'metabase')</td>\n",
       "      <td>20.000000</td>\n",
       "    </tr>\n",
       "    <tr>\n",
       "      <th>1</th>\n",
       "      <td>('P27', 'qlik_view_qlik_sense')</td>\n",
       "      <td>14.545455</td>\n",
       "    </tr>\n",
       "    <tr>\n",
       "      <th>14</th>\n",
       "      <td>('P27', 'no_bi_tool_at_work')</td>\n",
       "      <td>13.636364</td>\n",
       "    </tr>\n",
       "  </tbody>\n",
       "</table>\n",
       "</div>"
      ],
      "text/plain": [
       "                               cols  percentage\n",
       "0      ('P27', 'microsoft_powerbi')   49.090909\n",
       "2                ('P27', 'tableau')   30.909091\n",
       "3               ('P27', 'metabase')   20.000000\n",
       "1   ('P27', 'qlik_view_qlik_sense')   14.545455\n",
       "14    ('P27', 'no_bi_tool_at_work')   13.636364"
      ]
     },
     "execution_count": 22,
     "metadata": {},
     "output_type": "execute_result"
    }
   ],
   "source": [
    "print(\"\\n Quais as ferramentas de BI mais utilizadas?\")\n",
    "source_best = [col for col in df_best if col.startswith(\"('P27\") ]\n",
    "percs = [df_best[source_best][col].sum() /len(df_best)*100 for col in df_best[source_best].columns]\n",
    "\n",
    "df_source_best = pd.DataFrame()\n",
    "df_source_best[\"cols\"]=df_best[source_best].columns\n",
    "df_source_best[\"percentage\"]=percs\n",
    "\n",
    "df_source_best.sort_values(by=\"percentage\", ascending=False).head(5)"
   ]
  },
  {
   "cell_type": "code",
   "execution_count": 23,
   "id": "e16cfc37",
   "metadata": {},
   "outputs": [
    {
     "name": "stdout",
     "output_type": "stream",
     "text": [
      "\n",
      " Quais os ETLs mais utilizados?\n"
     ]
    },
    {
     "data": {
      "text/html": [
       "<div>\n",
       "<style scoped>\n",
       "    .dataframe tbody tr th:only-of-type {\n",
       "        vertical-align: middle;\n",
       "    }\n",
       "\n",
       "    .dataframe tbody tr th {\n",
       "        vertical-align: top;\n",
       "    }\n",
       "\n",
       "    .dataframe thead th {\n",
       "        text-align: right;\n",
       "    }\n",
       "</style>\n",
       "<table border=\"1\" class=\"dataframe\">\n",
       "  <thead>\n",
       "    <tr style=\"text-align: right;\">\n",
       "      <th></th>\n",
       "      <th>cols</th>\n",
       "      <th>percentage</th>\n",
       "    </tr>\n",
       "  </thead>\n",
       "  <tbody>\n",
       "    <tr>\n",
       "      <th>0</th>\n",
       "      <td>('P28', 'sql_&amp;_stored_procedures')</td>\n",
       "      <td>36.363636</td>\n",
       "    </tr>\n",
       "    <tr>\n",
       "      <th>11</th>\n",
       "      <td>('P28', 'other')</td>\n",
       "      <td>25.454545</td>\n",
       "    </tr>\n",
       "    <tr>\n",
       "      <th>1</th>\n",
       "      <td>('P28', 'apache_airflow')</td>\n",
       "      <td>24.545455</td>\n",
       "    </tr>\n",
       "    <tr>\n",
       "      <th>5</th>\n",
       "      <td>('P28', 'pentaho')</td>\n",
       "      <td>18.181818</td>\n",
       "    </tr>\n",
       "    <tr>\n",
       "      <th>10</th>\n",
       "      <td>('P28', 'siss_sql_server_integration_services')</td>\n",
       "      <td>16.363636</td>\n",
       "    </tr>\n",
       "  </tbody>\n",
       "</table>\n",
       "</div>"
      ],
      "text/plain": [
       "                                               cols  percentage\n",
       "0                ('P28', 'sql_&_stored_procedures')   36.363636\n",
       "11                                 ('P28', 'other')   25.454545\n",
       "1                         ('P28', 'apache_airflow')   24.545455\n",
       "5                                ('P28', 'pentaho')   18.181818\n",
       "10  ('P28', 'siss_sql_server_integration_services')   16.363636"
      ]
     },
     "execution_count": 23,
     "metadata": {},
     "output_type": "execute_result"
    }
   ],
   "source": [
    "print(\"\\n Quais os ETLs mais utilizados?\")\n",
    "source_best = [col for col in df_best if col.startswith(\"('P28\") ]\n",
    "percs = [df_best[source_best][col].sum() /len(df_best)*100 for col in df_best[source_best].columns]\n",
    "\n",
    "df_source_best = pd.DataFrame()\n",
    "df_source_best[\"cols\"]=df_best[source_best].columns\n",
    "df_source_best[\"percentage\"]=percs\n",
    "\n",
    "df_source_best.sort_values(by=\"percentage\", ascending=False).head(5)"
   ]
  },
  {
   "cell_type": "code",
   "execution_count": 24,
   "id": "0d0a10bf",
   "metadata": {},
   "outputs": [
    {
     "name": "stdout",
     "output_type": "stream",
     "text": [
      "\n",
      " Quais os Data Warehouses mais utilizados?\n"
     ]
    },
    {
     "data": {
      "text/html": [
       "<div>\n",
       "<style scoped>\n",
       "    .dataframe tbody tr th:only-of-type {\n",
       "        vertical-align: middle;\n",
       "    }\n",
       "\n",
       "    .dataframe tbody tr th {\n",
       "        vertical-align: top;\n",
       "    }\n",
       "\n",
       "    .dataframe thead th {\n",
       "        text-align: right;\n",
       "    }\n",
       "</style>\n",
       "<table border=\"1\" class=\"dataframe\">\n",
       "  <thead>\n",
       "    <tr style=\"text-align: right;\">\n",
       "      <th></th>\n",
       "      <th>cols</th>\n",
       "      <th>percentage</th>\n",
       "    </tr>\n",
       "  </thead>\n",
       "  <tbody>\n",
       "    <tr>\n",
       "      <th>7</th>\n",
       "      <td>('P30', 'microsoft_azure')</td>\n",
       "      <td>16.363636</td>\n",
       "    </tr>\n",
       "    <tr>\n",
       "      <th>4</th>\n",
       "      <td>('P30', 'postgres_mysql')</td>\n",
       "      <td>13.636364</td>\n",
       "    </tr>\n",
       "    <tr>\n",
       "      <th>1</th>\n",
       "      <td>('P30', 'aws_redshift')</td>\n",
       "      <td>12.727273</td>\n",
       "    </tr>\n",
       "    <tr>\n",
       "      <th>3</th>\n",
       "      <td>('P30', 'oracle')</td>\n",
       "      <td>11.818182</td>\n",
       "    </tr>\n",
       "    <tr>\n",
       "      <th>0</th>\n",
       "      <td>('P30', 'google_bigquery')</td>\n",
       "      <td>7.272727</td>\n",
       "    </tr>\n",
       "  </tbody>\n",
       "</table>\n",
       "</div>"
      ],
      "text/plain": [
       "                         cols  percentage\n",
       "7  ('P30', 'microsoft_azure')   16.363636\n",
       "4   ('P30', 'postgres_mysql')   13.636364\n",
       "1     ('P30', 'aws_redshift')   12.727273\n",
       "3           ('P30', 'oracle')   11.818182\n",
       "0  ('P30', 'google_bigquery')    7.272727"
      ]
     },
     "execution_count": 24,
     "metadata": {},
     "output_type": "execute_result"
    }
   ],
   "source": [
    "print(\"\\n Quais os Data Warehouses mais utilizados?\")\n",
    "source_best = [col for col in df_best if col.startswith(\"('P30\") ]\n",
    "percs = [df_best[source_best][col].sum() /len(df_best)*100 for col in df_best[source_best].columns]\n",
    "\n",
    "df_source_best = pd.DataFrame()\n",
    "df_source_best[\"cols\"]=df_best[source_best].columns\n",
    "df_source_best[\"percentage\"]=percs\n",
    "\n",
    "df_source_best.sort_values(by=\"percentage\", ascending=False).head(5)"
   ]
  },
  {
   "cell_type": "code",
   "execution_count": 25,
   "id": "5734ea0d",
   "metadata": {},
   "outputs": [
    {
     "name": "stdout",
     "output_type": "stream",
     "text": [
      "\n",
      " Quais as formas mais comuns de se atualizar sobre dados?\n"
     ]
    },
    {
     "data": {
      "text/html": [
       "<div>\n",
       "<style scoped>\n",
       "    .dataframe tbody tr th:only-of-type {\n",
       "        vertical-align: middle;\n",
       "    }\n",
       "\n",
       "    .dataframe tbody tr th {\n",
       "        vertical-align: top;\n",
       "    }\n",
       "\n",
       "    .dataframe thead th {\n",
       "        text-align: right;\n",
       "    }\n",
       "</style>\n",
       "<table border=\"1\" class=\"dataframe\">\n",
       "  <thead>\n",
       "    <tr style=\"text-align: right;\">\n",
       "      <th></th>\n",
       "      <th>cols</th>\n",
       "      <th>percentage</th>\n",
       "    </tr>\n",
       "  </thead>\n",
       "  <tbody>\n",
       "    <tr>\n",
       "      <th>6</th>\n",
       "      <td>('P33', 'abroad_blogs')</td>\n",
       "      <td>59.090909</td>\n",
       "    </tr>\n",
       "    <tr>\n",
       "      <th>8</th>\n",
       "      <td>('P33', 'meetups_and_events')</td>\n",
       "      <td>54.545455</td>\n",
       "    </tr>\n",
       "    <tr>\n",
       "      <th>2</th>\n",
       "      <td>('P33', 'youtube_channels')</td>\n",
       "      <td>43.636364</td>\n",
       "    </tr>\n",
       "    <tr>\n",
       "      <th>7</th>\n",
       "      <td>('P33', 'abroad_podcasts')</td>\n",
       "      <td>37.272727</td>\n",
       "    </tr>\n",
       "    <tr>\n",
       "      <th>3</th>\n",
       "      <td>('P33', 'other_brasilian_blogs')</td>\n",
       "      <td>30.909091</td>\n",
       "    </tr>\n",
       "  </tbody>\n",
       "</table>\n",
       "</div>"
      ],
      "text/plain": [
       "                               cols  percentage\n",
       "6           ('P33', 'abroad_blogs')   59.090909\n",
       "8     ('P33', 'meetups_and_events')   54.545455\n",
       "2       ('P33', 'youtube_channels')   43.636364\n",
       "7        ('P33', 'abroad_podcasts')   37.272727\n",
       "3  ('P33', 'other_brasilian_blogs')   30.909091"
      ]
     },
     "execution_count": 25,
     "metadata": {},
     "output_type": "execute_result"
    }
   ],
   "source": [
    "print(\"\\n Quais as formas mais comuns de se atualizar sobre dados?\")\n",
    "source_best = [col for col in df_best if col.startswith(\"('P33\") ]\n",
    "percs = [df_best[source_best][col].sum() /len(df_best)*100 for col in df_best[source_best].columns]\n",
    "\n",
    "df_source_best = pd.DataFrame()\n",
    "df_source_best[\"cols\"]=df_best[source_best].columns\n",
    "df_source_best[\"percentage\"]=percs\n",
    "\n",
    "df_source_best.sort_values(by=\"percentage\", ascending=False).head(5)"
   ]
  },
  {
   "cell_type": "code",
   "execution_count": 26,
   "id": "d58c785d",
   "metadata": {},
   "outputs": [
    {
     "name": "stdout",
     "output_type": "stream",
     "text": [
      "\n",
      " Quais as plataformas mais utilizadas de cursos de DS?\n"
     ]
    },
    {
     "data": {
      "text/html": [
       "<div>\n",
       "<style scoped>\n",
       "    .dataframe tbody tr th:only-of-type {\n",
       "        vertical-align: middle;\n",
       "    }\n",
       "\n",
       "    .dataframe tbody tr th {\n",
       "        vertical-align: top;\n",
       "    }\n",
       "\n",
       "    .dataframe thead th {\n",
       "        text-align: right;\n",
       "    }\n",
       "</style>\n",
       "<table border=\"1\" class=\"dataframe\">\n",
       "  <thead>\n",
       "    <tr style=\"text-align: right;\">\n",
       "      <th></th>\n",
       "      <th>cols</th>\n",
       "      <th>percentage</th>\n",
       "    </tr>\n",
       "  </thead>\n",
       "  <tbody>\n",
       "    <tr>\n",
       "      <th>1</th>\n",
       "      <td>('P34', 'coursera')</td>\n",
       "      <td>66.363636</td>\n",
       "    </tr>\n",
       "    <tr>\n",
       "      <th>2</th>\n",
       "      <td>('P34', 'udemy')</td>\n",
       "      <td>50.000000</td>\n",
       "    </tr>\n",
       "    <tr>\n",
       "      <th>0</th>\n",
       "      <td>('P34', 'udacity')</td>\n",
       "      <td>36.363636</td>\n",
       "    </tr>\n",
       "    <tr>\n",
       "      <th>4</th>\n",
       "      <td>('P34', 'edx')</td>\n",
       "      <td>30.000000</td>\n",
       "    </tr>\n",
       "    <tr>\n",
       "      <th>5</th>\n",
       "      <td>('P34', 'data_camp')</td>\n",
       "      <td>26.363636</td>\n",
       "    </tr>\n",
       "    <tr>\n",
       "      <th>7</th>\n",
       "      <td>('P34', 'kaggle_learn')</td>\n",
       "      <td>19.090909</td>\n",
       "    </tr>\n",
       "    <tr>\n",
       "      <th>3</th>\n",
       "      <td>('P34', 'height')</td>\n",
       "      <td>12.727273</td>\n",
       "    </tr>\n",
       "    <tr>\n",
       "      <th>9</th>\n",
       "      <td>('P34', 'other')</td>\n",
       "      <td>10.909091</td>\n",
       "    </tr>\n",
       "    <tr>\n",
       "      <th>6</th>\n",
       "      <td>('P34', 'data_quest')</td>\n",
       "      <td>4.545455</td>\n",
       "    </tr>\n",
       "    <tr>\n",
       "      <th>8</th>\n",
       "      <td>('P34', 'online_courses')</td>\n",
       "      <td>3.636364</td>\n",
       "    </tr>\n",
       "  </tbody>\n",
       "</table>\n",
       "</div>"
      ],
      "text/plain": [
       "                        cols  percentage\n",
       "1        ('P34', 'coursera')   66.363636\n",
       "2           ('P34', 'udemy')   50.000000\n",
       "0         ('P34', 'udacity')   36.363636\n",
       "4             ('P34', 'edx')   30.000000\n",
       "5       ('P34', 'data_camp')   26.363636\n",
       "7    ('P34', 'kaggle_learn')   19.090909\n",
       "3          ('P34', 'height')   12.727273\n",
       "9           ('P34', 'other')   10.909091\n",
       "6      ('P34', 'data_quest')    4.545455\n",
       "8  ('P34', 'online_courses')    3.636364"
      ]
     },
     "execution_count": 26,
     "metadata": {},
     "output_type": "execute_result"
    }
   ],
   "source": [
    "print(\"\\n Quais as plataformas mais utilizadas de cursos de DS?\")\n",
    "source_best = [col for col in df_best if col.startswith(\"('P34\") ]\n",
    "percs = [df_best[source_best][col].sum() /len(df_best)*100 for col in df_best[source_best].columns]\n",
    "\n",
    "df_source_best = pd.DataFrame()\n",
    "df_source_best[\"cols\"]=df_best[source_best].columns\n",
    "df_source_best[\"percentage\"]=percs\n",
    "\n",
    "df_source_best.sort_values(by=\"percentage\", ascending=False)"
   ]
  },
  {
   "cell_type": "markdown",
   "id": "3ce88c17",
   "metadata": {},
   "source": [
    "O melhor profissional da Ciência de Dados hoje ganha em média cerca de R$16.000, tem entre 29 e 42 anos e tem 85% de chance de ser homem. Possui 65% de chance de morar em São Paulo. Tem 46% de chance de ter pós-graduação, 21% de chance de ser graduado, 16% de ter mestrado, e 12% de chance de ter doutorado. Possui 56% de chance de ser CLT, 32% de chance de ser pessoa jurídica, e 11% de chance de ser servidor público. 54% dessas pessoas ocupam posição de liderança.\n",
    "\\\n",
    "\\\n",
    "30% dessas pessoas possuem mais de 10 anos de experiência, 27% possuem de 6 a 10 anos, 21% de 4 a 5 anos, 10% de 2 a 3 anos, 8% possuem entre 1 e 2 anos de experiência, e 5% menos de 1 ano de experiência.\n",
    "\\\n",
    "\\\n",
    "Para estes profissionais, 76% utilizam regressão linear, 71% utilizam árvores de decisão, 64% utilizam regressão logística, 62% usam análise de cluster, e 58% utilizam florestas aleatórias. 87% desses profissionais utilizam Python, 83% utilizam SQL, 45% utilizam R, 13% utilizam VBA, e 11% usam Java.\n",
    "\\\n",
    "\\\n",
    "As fontes de dados mais utilizadas são SQL (97%), Sheets (86%), NoSQL (60%), NLP (47%), e imagens (27%). As clouds mais utilizadas são AWS (47%), GCP (31%) e Azure (31%). As DBs mais utilizadas são SQL Server (46%), MySQL (40%), PostgreSQL (39%) e Oracle (38%). As ferramentas de BI mais utilizadas são Power BI (49%), Tableau (31%), MetaBase (20%) e Qlik (15%).\n",
    "\\\n",
    "\\\n",
    "Desses profissionais, 59% se atualizam sobre sua área através de blogs estrangeiros, 31% através de blogs nacionais, 54% através de eventos ou encontros com outros profissionais da área, 44% através de canais no YouTube, e 37% via podcasts. \\\n",
    "As plataformas de curso mais utilizadas são Coursera (66%), Udemy (50%), Udacity (36%), EDX (30%), e Data Camp (26%)."
   ]
  }
 ],
 "metadata": {
  "kernelspec": {
   "display_name": "Python 3 (ipykernel)",
   "language": "python",
   "name": "python3"
  },
  "language_info": {
   "codemirror_mode": {
    "name": "ipython",
    "version": 3
   },
   "file_extension": ".py",
   "mimetype": "text/x-python",
   "name": "python",
   "nbconvert_exporter": "python",
   "pygments_lexer": "ipython3",
   "version": "3.9.7"
  }
 },
 "nbformat": 4,
 "nbformat_minor": 5
}
