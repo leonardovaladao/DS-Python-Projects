{
 "cells": [
  {
   "cell_type": "markdown",
   "id": "67e0c320",
   "metadata": {},
   "source": [
    "# Data Prep"
   ]
  },
  {
   "cell_type": "markdown",
   "id": "aefc271b",
   "metadata": {},
   "source": [
    "Parte reservada para coletar e filtrar os dados de forma a melhor utilizá-los."
   ]
  },
  {
   "cell_type": "code",
   "execution_count": 1,
   "id": "cb8d18ea",
   "metadata": {},
   "outputs": [],
   "source": [
    "# Primeiro, ignorar todos os avisos\n",
    "import warnings\n",
    "warnings.filterwarnings('ignore')"
   ]
  },
  {
   "cell_type": "code",
   "execution_count": 3,
   "id": "dd3bc459",
   "metadata": {},
   "outputs": [
    {
     "ename": "OSError",
     "evalue": "Could not find kaggle.json. Make sure it's located in C:\\Users\\Leonardo\\.kaggle. Or use the environment method.",
     "output_type": "error",
     "traceback": [
      "\u001b[1;31m---------------------------------------------------------------------------\u001b[0m",
      "\u001b[1;31mOSError\u001b[0m                                   Traceback (most recent call last)",
      "\u001b[1;32m~\\AppData\\Local\\Temp/ipykernel_3424/4205561460.py\u001b[0m in \u001b[0;36m<module>\u001b[1;34m\u001b[0m\n\u001b[0;32m      1\u001b[0m \u001b[1;31m# Importar bibliotecas utilizadas neste notebook\u001b[0m\u001b[1;33m\u001b[0m\u001b[1;33m\u001b[0m\u001b[0m\n\u001b[1;32m----> 2\u001b[1;33m \u001b[1;32mimport\u001b[0m \u001b[0mkaggle\u001b[0m\u001b[1;33m\u001b[0m\u001b[1;33m\u001b[0m\u001b[0m\n\u001b[0m\u001b[0;32m      3\u001b[0m \u001b[1;32mimport\u001b[0m \u001b[0mpandas\u001b[0m \u001b[1;32mas\u001b[0m \u001b[0mpd\u001b[0m\u001b[1;33m\u001b[0m\u001b[1;33m\u001b[0m\u001b[0m\n\u001b[0;32m      4\u001b[0m \u001b[1;32mimport\u001b[0m \u001b[0mnumpy\u001b[0m \u001b[1;32mas\u001b[0m \u001b[0mnp\u001b[0m\u001b[1;33m\u001b[0m\u001b[1;33m\u001b[0m\u001b[0m\n\u001b[0;32m      5\u001b[0m \u001b[1;32mimport\u001b[0m \u001b[0mseaborn\u001b[0m \u001b[1;32mas\u001b[0m \u001b[0msns\u001b[0m\u001b[1;33m\u001b[0m\u001b[1;33m\u001b[0m\u001b[0m\n",
      "\u001b[1;32m~\\anaconda3\\lib\\site-packages\\kaggle\\__init__.py\u001b[0m in \u001b[0;36m<module>\u001b[1;34m\u001b[0m\n\u001b[0;32m     21\u001b[0m \u001b[1;33m\u001b[0m\u001b[0m\n\u001b[0;32m     22\u001b[0m \u001b[0mapi\u001b[0m \u001b[1;33m=\u001b[0m \u001b[0mKaggleApi\u001b[0m\u001b[1;33m(\u001b[0m\u001b[0mApiClient\u001b[0m\u001b[1;33m(\u001b[0m\u001b[1;33m)\u001b[0m\u001b[1;33m)\u001b[0m\u001b[1;33m\u001b[0m\u001b[1;33m\u001b[0m\u001b[0m\n\u001b[1;32m---> 23\u001b[1;33m \u001b[0mapi\u001b[0m\u001b[1;33m.\u001b[0m\u001b[0mauthenticate\u001b[0m\u001b[1;33m(\u001b[0m\u001b[1;33m)\u001b[0m\u001b[1;33m\u001b[0m\u001b[1;33m\u001b[0m\u001b[0m\n\u001b[0m",
      "\u001b[1;32m~\\anaconda3\\lib\\site-packages\\kaggle\\api\\kaggle_api_extended.py\u001b[0m in \u001b[0;36mauthenticate\u001b[1;34m(self)\u001b[0m\n\u001b[0;32m    162\u001b[0m                 \u001b[0mconfig_data\u001b[0m \u001b[1;33m=\u001b[0m \u001b[0mself\u001b[0m\u001b[1;33m.\u001b[0m\u001b[0mread_config_file\u001b[0m\u001b[1;33m(\u001b[0m\u001b[0mconfig_data\u001b[0m\u001b[1;33m)\u001b[0m\u001b[1;33m\u001b[0m\u001b[1;33m\u001b[0m\u001b[0m\n\u001b[0;32m    163\u001b[0m             \u001b[1;32melse\u001b[0m\u001b[1;33m:\u001b[0m\u001b[1;33m\u001b[0m\u001b[1;33m\u001b[0m\u001b[0m\n\u001b[1;32m--> 164\u001b[1;33m                 raise IOError('Could not find {}. Make sure it\\'s located in'\n\u001b[0m\u001b[0;32m    165\u001b[0m                               ' {}. Or use the environment method.'.format(\n\u001b[0;32m    166\u001b[0m                                   self.config_file, self.config_dir))\n",
      "\u001b[1;31mOSError\u001b[0m: Could not find kaggle.json. Make sure it's located in C:\\Users\\Leonardo\\.kaggle. Or use the environment method."
     ]
    }
   ],
   "source": [
    "# Importar bibliotecas utilizadas neste notebook\n",
    "import kaggle\n",
    "import pandas as pd\n",
    "import numpy as np\n",
    "import seaborn as sns\n",
    "import matplotlib.pyplot as plt\n",
    "%matplotlib inline\n",
    "\n",
    "# Baixar e importar dados com biblioteca da Kaggle\n",
    "kaggle.api.authenticate()\n",
    "kaggle.api.dataset_download_files('datahackers/pesquisa-data-hackers-2019', path='./', unzip=True)\n",
    "df = pd.read_csv(\"datahackers-survey-2019-anonymous-responses.csv\")"
   ]
  },
  {
   "cell_type": "code",
   "execution_count": 3,
   "id": "cd8318e7",
   "metadata": {},
   "outputs": [],
   "source": [
    "# Definir colunas relevantes para serem estudadas\n",
    "cols = [\"('P1', 'age')\", \"('P2', 'gender')\", \"('P3', 'living_in_brasil')\", \"('P5', 'living_state')\", \n",
    "        \"('P8', 'degreee_level')\", \"('P10', 'job_situation')\", \"('P13', 'manager')\", \"('P16', 'salary_range')\",\n",
    "        \"('P17', 'time_experience_data_science')\", \"('P18', 'time_experience_before')\", \n",
    "        \"('P19', 'is_data_science_professional')\", \"('P20', 'linear_regression')\", \"('P20', 'logistic_regression')\",\n",
    "        \"('P20', 'glms')\", \"('P20', 'decision_tree')\", \"('P20', 'random_forest')\", \"('P20', 'neural_networks')\",\n",
    "        \"('P20', 'bayesian_inference')\", \"('P20', 'ensemble')\", \"('P20', 'svms')\", \"('P20', 'cnns')\", \"('P20', 'rnns')\",\n",
    "        \"('P20', 'hmms')\", \"('P20', 'gans')\", \"('P20', 'markov_chains')\", \"('P20', 'nlp')\", \n",
    "        \"('P20', 'gradient_boosted_machines')\", \"('P20', 'cluster_analysis')\", \"('P20', 'survival_analysis')\",\n",
    "        \"('P20', 'longitudinal_data_analysis')\", \"('P20', 'joint analysis')\", \"('P20', 'no_listed_methods')\",\n",
    "        \"('P21', 'sql_')\", \"('P21', 'r')\", \"('P21', 'python')\", \"('P21', 'c_c++_c#')\", \"('P21', 'dotnet')\",\n",
    "        \"('P21', 'java')\", \"('P21', 'julia')\", \"('P21', 'sas_stata')\", \"('P21', 'visual_basic_vba')\", \"('P21', 'scala')\",\n",
    "        \"('P21', 'matlab')\", \"('P21', 'php')\", \"('P21', 'no_listed_languages')\",\n",
    "        \"('P22', 'most_used_proggraming_languages')\", \"('P23', 'sql')\", \"('P23', 'nosql')\", \"('P23', 'images')\", \n",
    "        \"('P23', 'nlp')\", \"('P23', 'videos')\", \"('P23', 'sheets')\", \"('P23', 'other')\", \n",
    "        \"('P24', 'sql')\", \"('P24', 'nosql')\", \"('P24', 'imagens')\", \"('P24', 'nlp')\", \"('P24', 'vídeos')\",\n",
    "        \"('P24', 'planilhas')\", \"('P24', 'other')\", \"('P25', 'aws')\", \"('P25', 'gcp')\", \"('P25', 'azure')\", \"('P25', 'ibm')\",\n",
    "        \"('P25', 'on_premise_servers')\", \"('P25', 'cloud_própria')\", \"('P25', 'other')\", \"('P26', 'mysql')\", \n",
    "        \"('P26', 'oracle')\", \"('P26', 'sql_server')\", \"('P26', 'aurora')\", \"('P26', 'dynamodb')\", \"('P26', 'coachdb')\", \n",
    "        \"('P26', 'cassandra')\", \"('P26', 'mongodb')\", \"('P26', 'mariadb')\", \"('P26', 'datomic')\", \"('P26', 's3')\",\n",
    "        \"('P26', 'postgresql')\", \"('P26', 'elaticsearch')\", \"('P26', 'db2')\", \"('P26', 'ms_access')\", \"('P26', 'sqlite')\",\n",
    "        \"('P26', 'sybase')\", \"('P26', 'firebase')\", \"('P26', 'vertica')\", \"('P26', 'redis')\", \"('P26', 'neo4j')\",\n",
    "        \"('P26', 'google_bigtable')\", \"('P26', 'hbase')\", \"('P26', 'other')\", \"('P27', 'microsoft_powerbi')\",\n",
    "        \"('P27', 'qlik_view_qlik_sense')\", \"('P27', 'tableau')\", \"('P27', 'metabase')\", \"('P27', 'superset')\",\n",
    "        \"('P27', 'redash')\", \"('P27', 'microstrategy')\", \"('P27', 'ibm_analytics_cognos')\", \n",
    "        \"('P27', 'sap_business_objects')\", \"('P27', 'oracle_business_intelligence')\", \"('P27', 'birst')\", \n",
    "        \"('P27', 'looker')\", \"('P27', 'google_data_studio')\", \"('P27', 'only_excel_gsheets')\", \n",
    "        \"('P27', 'no_bi_tool_at_work')\", \"('P27', 'other')\", \"('P28', 'sql_&_stored_procedures')\", \n",
    "        \"('P28', 'apache_airflow')\", \"('P28', 'luigi')\", \"('P28', 'aws_glue')\", \"('P28', 'talend')\",\n",
    "        \"('P28', 'pentaho')\", \"('P28', 'alteryx')\", \"('P28', 'oracle_data_integrator')\", \"('P28', 'ibm_data_stage')\",\n",
    "        \"('P28', 'sap_bw_etl')\", \"('P28', 'siss_sql_server_integration_services')\", \"('P28', 'other')\", \n",
    "        \"('P29', 'have_data_warehouse')\", \"('P30', 'google_bigquery')\", \"('P30', 'aws_redshift')\", \"('P30', 'snowflake')\", \n",
    "        \"('P30', 'oracle')\", \"('P30', 'postgres_mysql')\", \"('P30', 'ibm')\", \"('P30', 'teradata')\", \n",
    "        \"('P30', 'microsoft_azure')\", \"('P30', 'do_not_know')\", \"('P30', 'other')\", \"('P33', 'telegram_groups')\",\n",
    "        \"('P33', 'whatsapp_groups')\", \"('P33', 'youtube_channels')\", \"('P33', 'other_brasilian_blogs')\", \n",
    "        \"('P33', 'other_slack_channels')\", \"('P33', 'twitter')\", \"('P33', 'abroad_blogs')\", \"('P33', 'abroad_podcasts')\", \n",
    "        \"('P33', 'meetups_and_events')\", \"('P33', 'only_data_hackers')\", \"('P33', 'other')\", \"('P34', 'udacity')\",\n",
    "        \"('P34', 'coursera')\", \"('P34', 'udemy')\", \"('P34', 'height')\", \"('P34', 'edx')\", \"('P34', 'data_camp')\",\n",
    "        \"('P34', 'data_quest')\", \"('P34', 'kaggle_learn')\", \"('P34', 'online_courses')\", \"('P34', 'other')\",\n",
    "        \"('P35', 'data_science_plataforms_preference')\", \"('P35', 'other')\", \"('D1', 'living_macroregion')\",\n",
    "        \"('D3', 'anonymized_degree_area')\", \"('D4', 'anonymized_market_sector')\", \"('D5', 'anonymized_manager_level')\",\n",
    "        \"('D6', 'anonymized_role')\"]\n",
    "\n",
    "# Redefinir dataframe\n",
    "df = df[cols]"
   ]
  },
  {
   "cell_type": "code",
   "execution_count": 4,
   "id": "1fa88984",
   "metadata": {},
   "outputs": [],
   "source": [
    "# Transformar dados categóricos de salários em dados numéricos, considerando a média \n",
    "# trazida pelos dados categóricos\n",
    "df[\"Sal\"] = df[\"('P16', 'salary_range')\"].map({'de R$ 1.001/mês a R$ 2.000/mês': 1500,\n",
    "                                  'de R$ 2.001/mês a R$ 3000/mês': 2500,\n",
    "                                  'de R$ 4.001/mês a R$ 6.000/mês': 5000,\n",
    "                                  'de R$ 6.001/mês a R$ 8.000/mês': 7000,\n",
    "                                  'de R$ 3.001/mês a R$ 4.000/mês': 3500,\n",
    "                                  'de R$ 8.001/mês a R$ 12.000/mês': 10000,\n",
    "                                   'de R$ 12.001/mês a R$ 16.000/mês': 14000,\n",
    "                                  'Menos de R$ 1.000/mês':1000,\n",
    "                                   'de R$ 16.001/mês a R$ 20.000/mês': 18000,\n",
    "                                  'de R$ 20.001/mês a R$ 25.000/mês':22500,\n",
    "                                  'Acima de R$ 25.001/mês':25000,\n",
    "                                  np.nan: np.nan,})"
   ]
  },
  {
   "cell_type": "markdown",
   "id": "ab665a9b",
   "metadata": {},
   "source": [
    "# Análise Geral"
   ]
  },
  {
   "cell_type": "code",
   "execution_count": 5,
   "id": "8898090d",
   "metadata": {},
   "outputs": [
    {
     "data": {
      "image/png": "[encoded data removed]",
      "text/plain": [
       "<Figure size 1080x504 with 1 Axes>"
      ]
     },
     "metadata": {
      "needs_background": "light"
     },
     "output_type": "display_data"
    }
   ],
   "source": [
    "fig = plt.figure(figsize=(15,7))\n",
    "sns.distplot(df['Sal'], rug=True, kde=True, hist=False)\n",
    "plt.xlim(1000,25000)\n",
    "#plt.xticks([1000, 1500, 2500, 3500, 5000, 7000, 10000, 14000, 18000, 22500, 25000])\n",
    "plt.xticks(np.arange(1000,25000,1000))\n",
    "plt.title(\"Distribuição de densidade dos salários de Cientistas de Dados brasileiros coletados no estudo estatístico\")\n",
    "plt.xlabel(\"Salários\")\n",
    "plt.ylabel(\"Densidade\")\n",
    "plt.show()"
   ]
  },
  {
   "cell_type": "code",
   "execution_count": 6,
   "id": "44d56344",
   "metadata": {},
   "outputs": [
    {
     "data": {
      "image/png": "[encoded data removed]",
      "text/plain": [
       "<Figure size 1080x504 with 1 Axes>"
      ]
     },
     "metadata": {
      "needs_background": "light"
     },
     "output_type": "display_data"
    }
   ],
   "source": [
    "fig = plt.figure(figsize=(15,7))\n",
    "sns.countplot(df['Sal'], color=\"pink\")\n",
    "plt.title(\"Distribuição bruta dos salários de Cientistas de Dados brasileiros coletados no estudo estatístico\")\n",
    "plt.xlabel(\"Salários\")\n",
    "plt.ylabel(\"Contagem\")\n",
    "plt.show()"
   ]
  },
  {
   "cell_type": "code",
   "execution_count": 7,
   "id": "fc5cf87f",
   "metadata": {},
   "outputs": [
    {
     "name": "stdout",
     "output_type": "stream",
     "text": [
      "Quantos dados há na pesquisa? \n",
      "R: 1527\n",
      "Qual o salário médio de quem respondeu? \n",
      "R: R$6283.24\n",
      "Qual o salário mediano ? \n",
      "R: R$5000.00\n",
      "Qual o desvio padrão da medida? \n",
      "R: R$4633.44\n"
     ]
    }
   ],
   "source": [
    "print(\"Quantos dados há na pesquisa? \\nR: {:.0f}\".format(df[\"Sal\"].count()))\n",
    "print(\"Qual o salário médio de quem respondeu? \\nR: R${:.2f}\".format(np.mean(df[\"Sal\"])))\n",
    "print(\"Qual o salário mediano ? \\nR: R${:.2f}\".format(np.median(df[\"Sal\"].dropna())))\n",
    "print(\"Qual o desvio padrão da medida? \\nR: R${:.2f}\".format(np.std(df[\"Sal\"])))"
   ]
  },
  {
   "cell_type": "markdown",
   "id": "a7cb0fee",
   "metadata": {},
   "source": [
    "# Análise do meu perfil"
   ]
  },
  {
   "cell_type": "markdown",
   "id": "af3a2fcb",
   "metadata": {},
   "source": [
    "### Análise do perfil de experiência profissional"
   ]
  },
  {
   "cell_type": "code",
   "execution_count": 8,
   "id": "a23e1275",
   "metadata": {},
   "outputs": [],
   "source": [
    "# Filtro de características do meu perfil\n",
    "df_perfil = df[\n",
    "    (df[\"('P3', 'living_in_brasil')\"]==1) &\n",
    "    (df[\"('P8', 'degreee_level')\"]==\"Graduação/Bacharelado\") &\n",
    "    (df[\"('P10', 'job_situation')\"]==\"Empregado (CTL)\") &\n",
    "    (df[\"('P13', 'manager')\"]==0) &\n",
    "    (df[\"('P17', 'time_experience_data_science')\"]==\"de 1 a 2 anos\") &\n",
    "    (df[\"('P19', 'is_data_science_professional')\"]==1)\n",
    "]"
   ]
  },
  {
   "cell_type": "code",
   "execution_count": 9,
   "id": "41710dd9",
   "metadata": {},
   "outputs": [
    {
     "name": "stdout",
     "output_type": "stream",
     "text": [
      "Qual o salário médio de alguém no meu perfil? \n",
      "R: R$4680.00\n",
      "Qual o salário mediano de alguém no meu perfil? \n",
      "R: R$5000.00\n",
      "Qual o desvio padrão da medida? \n",
      "R: R$2118.40\n"
     ]
    }
   ],
   "source": [
    "print(\"Qual o salário médio de alguém no meu perfil? \\nR: R${:.2f}\".format(np.average(df_perfil[\"Sal\"])))\n",
    "print(\"Qual o salário mediano de alguém no meu perfil? \\nR: R${:.2f}\".format(np.median(df_perfil[\"Sal\"])))\n",
    "print(\"Qual o desvio padrão da medida? \\nR: R${:.2f}\".format(np.std(df_perfil[\"Sal\"])))"
   ]
  },
  {
   "cell_type": "code",
   "execution_count": 10,
   "id": "875b5b5d",
   "metadata": {},
   "outputs": [
    {
     "data": {
      "image/png": "[encoded data removed]",
      "text/plain": [
       "<Figure size 1080x504 with 1 Axes>"
      ]
     },
     "metadata": {
      "needs_background": "light"
     },
     "output_type": "display_data"
    }
   ],
   "source": [
    "fig = plt.figure(figsize=(15,7))\n",
    "sns.countplot(df_perfil['Sal'], color=\"pink\")\n",
    "plt.title(\"Distribuição dos salários de Cientistas de Dados brasileiros com perfil similar ao meu\")\n",
    "plt.xlabel(\"Salário\")\n",
    "plt.ylabel(\"Contagem\")\n",
    "plt.show()"
   ]
  },
  {
   "cell_type": "markdown",
   "id": "7bc5940b",
   "metadata": {},
   "source": [
    "### Avaliação do mesmo perfil de experiência profissional, porém não formado"
   ]
  },
  {
   "cell_type": "code",
   "execution_count": 11,
   "id": "bbb2d47d",
   "metadata": {},
   "outputs": [
    {
     "name": "stdout",
     "output_type": "stream",
     "text": [
      "Qual o salário médio de alguém no meu perfil sem formação? \n",
      "R: R$3586.96\n",
      "Qual o salário mediano de alguém no meu perfil sem formação? \n",
      "R: R$3500.00\n",
      "Qual o desvio padrão da medida? \n",
      "R: R$1479.22\n"
     ]
    },
    {
     "data": {
      "image/png": "[encoded data removed]",
      "text/plain": [
       "<Figure size 1080x504 with 1 Axes>"
      ]
     },
     "metadata": {
      "needs_background": "light"
     },
     "output_type": "display_data"
    }
   ],
   "source": [
    "df_perfil_sem_form = df[\n",
    "    (df[\"('P3', 'living_in_brasil')\"]==1) &\n",
    "    ((df[\"('P8', 'degreee_level')\"]==\"Estudante de Graduação\") | (df[\"('P8', 'degreee_level')\"]==\"Não tenho graduação formal\")) &\n",
    "    (df[\"('P10', 'job_situation')\"]==\"Empregado (CTL)\") &\n",
    "    (df[\"('P13', 'manager')\"]==0) &\n",
    "    (df[\"('P17', 'time_experience_data_science')\"]==\"de 1 a 2 anos\") &\n",
    "    (df[\"('P19', 'is_data_science_professional')\"]==1)\n",
    "]\n",
    "\n",
    "print(\"Qual o salário médio de alguém no meu perfil sem formação? \\nR: R${:.2f}\".format(np.average(df_perfil_sem_form[\"Sal\"])))\n",
    "print(\"Qual o salário mediano de alguém no meu perfil sem formação? \\nR: R${:.2f}\".format(np.median(df_perfil_sem_form[\"Sal\"])))\n",
    "print(\"Qual o desvio padrão da medida? \\nR: R${:.2f}\".format(np.std(df_perfil_sem_form[\"Sal\"])))\n",
    "\n",
    "fig = plt.figure(figsize=(15,7))\n",
    "sns.countplot(df_perfil_sem_form['Sal'], color=\"pink\")\n",
    "plt.title(\"Distribuição de salários com perfis de experiência similares ao meu, porém sem formação acadêmica\")\n",
    "plt.xlabel(\"Salários\")\n",
    "plt.ylabel(\"Contagem\")\n",
    "plt.show()"
   ]
  },
  {
   "cell_type": "markdown",
   "id": "0e0fa6ad",
   "metadata": {},
   "source": [
    "### Avaliação do perfil de conhecimento técnico"
   ]
  },
  {
   "cell_type": "code",
   "execution_count": 12,
   "id": "2f642f29",
   "metadata": {},
   "outputs": [
    {
     "name": "stdout",
     "output_type": "stream",
     "text": [
      "Qual o salário médio de alguém no meu perfil técnico? \n",
      "R: R$5125.00\n",
      "Qual o salário mediano de alguém no meu perfil técnico? \n",
      "R: R$4250.00\n",
      "Qual o desvio padrão da medida? \n",
      "R: R$2175.86\n"
     ]
    },
    {
     "data": {
      "image/png": "[encoded data removed]",
      "text/plain": [
       "<Figure size 1080x504 with 1 Axes>"
      ]
     },
     "metadata": {
      "needs_background": "light"
     },
     "output_type": "display_data"
    }
   ],
   "source": [
    "df_tech = df[\n",
    "    (df[\"('P17', 'time_experience_data_science')\"]==\"de 1 a 2 anos\") &\n",
    "    (df[\"('P19', 'is_data_science_professional')\"]==1) &\n",
    "    (df[\"('P20', 'linear_regression')\"]==1) &\n",
    "    (df[\"('P20', 'logistic_regression')\"]==1) &\n",
    "    (df[\"('P20', 'decision_tree')\"]==1) &\n",
    "    (df[\"('P20', 'ensemble')\"]==1) &\n",
    "    (df[\"('P20', 'svms')\"]==1) &\n",
    "    (df[\"('P20', 'cnns')\"]==1) &\n",
    "    (df[\"('P20', 'cluster_analysis')\"]==1) \n",
    "]\n",
    "\n",
    "print(\"Qual o salário médio de alguém no meu perfil técnico? \\nR: R${:.2f}\".format(np.average(df_tech[\"Sal\"])))\n",
    "print(\"Qual o salário mediano de alguém no meu perfil técnico? \\nR: R${:.2f}\".format(np.median(df_tech[\"Sal\"])))\n",
    "print(\"Qual o desvio padrão da medida? \\nR: R${:.2f}\".format(np.std(df_tech[\"Sal\"])))\n",
    "\n",
    "fig = plt.figure(figsize=(15,7))\n",
    "sns.countplot(df_tech['Sal'], color=\"pink\")\n",
    "plt.title(\"Distribuição de salários com perfis de conhecimento técnico similar ao meu\")\n",
    "plt.xlabel(\"Salários\")\n",
    "plt.ylabel(\"Contagem\")\n",
    "plt.show()"
   ]
  },
  {
   "cell_type": "markdown",
   "id": "4084f792",
   "metadata": {},
   "source": [
    "### Avaliação do perfil de uso de linguagens"
   ]
  },
  {
   "cell_type": "code",
   "execution_count": 46,
   "id": "78cbb60d",
   "metadata": {
    "scrolled": false
   },
   "outputs": [
    {
     "name": "stdout",
     "output_type": "stream",
     "text": [
      "Qual o salário médio de alguém no meu perfil técnico? \n",
      "R: R$nan\n",
      "Qual o salário mediano de alguém no meu perfil técnico? \n",
      "R: R$nan\n",
      "Qual o desvio padrão da medida? \n",
      "R: R$4873.40\n"
     ]
    },
    {
     "data": {
      "image/png": "[encoded data removed]",
      "text/plain": [
       "<Figure size 1080x504 with 1 Axes>"
      ]
     },
     "metadata": {
      "needs_background": "light"
     },
     "output_type": "display_data"
    }
   ],
   "source": [
    "df_lang = df[\n",
    "    (df[\"('P17', 'time_experience_data_science')\"]==\"de 1 a 2 anos\") &\n",
    "    (df[\"('P19', 'is_data_science_professional')\"]==1) &\n",
    "    (df[\"('P21', 'sql_')\"]==1) |\n",
    "    (df[\"('P21', 'python')\"]==1) |\n",
    "    (df[\"('P21', 'scala')\"]==1)\n",
    "]\n",
    "\n",
    "print(\"Qual o salário médio de alguém no meu perfil técnico? \\nR: R${:.2f}\".format(np.average(df_lang[\"Sal\"])))\n",
    "print(\"Qual o salário mediano de alguém no meu perfil técnico? \\nR: R${:.2f}\".format(np.median(df_lang[\"Sal\"])))\n",
    "print(\"Qual o desvio padrão da medida? \\nR: R${:.2f}\".format(np.std(df_lang[\"Sal\"])))\n",
    "\n",
    "\n",
    "fig = plt.figure(figsize=(15,7))\n",
    "sns.countplot(df_lang['Sal'], color=\"pink\")\n",
    "plt.title(\"Distribuição de salários com perfis similares utilizando as mesmas linguagens de programação\")\n",
    "plt.xlabel(\"Salários\")\n",
    "plt.ylabel(\"Contagem\")\n",
    "plt.show()"
   ]
  },
  {
   "cell_type": "markdown",
   "id": "0132f7d4",
   "metadata": {},
   "source": [
    "### Avaliação das características do maior quartil"
   ]
  },
  {
   "cell_type": "code",
   "execution_count": 14,
   "id": "b61b55fe",
   "metadata": {},
   "outputs": [],
   "source": [
    "df_best = df.sort_values(by=\"Sal\", ascending=False).head(int(len(df)*0.25))\n",
    "df_best = df_best[\n",
    "    (df_best[\"('P19', 'is_data_science_professional')\"]==1) &\n",
    "    (df_best[\"('P3', 'living_in_brasil')\"]==1)\n",
    "]"
   ]
  },
  {
   "cell_type": "code",
   "execution_count": 15,
   "id": "310dd66e",
   "metadata": {},
   "outputs": [
    {
     "name": "stdout",
     "output_type": "stream",
     "text": [
      "Qual o salário médio dos melhores profissionais? \n",
      "R: R$12133.72\n",
      "Qual o salário mediano  dos melhores profissionais? \n",
      "R: R$10000.00\n",
      "Qual o desvio padrão da medida? \n",
      "R: R$2323.97\n"
     ]
    },
    {
     "data": {
      "image/png": "[encoded data removed]",
      "text/plain": [
       "<Figure size 1080x504 with 1 Axes>"
      ]
     },
     "metadata": {
      "needs_background": "light"
     },
     "output_type": "display_data"
    }
   ],
   "source": [
    "print(\"Qual o salário médio dos melhores profissionais? \\nR: R${:.2f}\".format(np.average(df_best[\"Sal\"])))\n",
    "print(\"Qual o salário mediano  dos melhores profissionais? \\nR: R${:.2f}\".format(np.median(df_best[\"Sal\"])))\n",
    "print(\"Qual o desvio padrão da medida? \\nR: R${:.2f}\".format(np.std(df_lang[\"Sal\"])))\n",
    "\n",
    "\n",
    "fig = plt.figure(figsize=(15,7))\n",
    "sns.countplot(df_best['Sal'], color=\"pink\")\n",
    "plt.title(\"Distribuição de salários dos 25% melhores profissionais\")\n",
    "plt.xlabel(\"Salários\")\n",
    "plt.ylabel(\"Contagem\")\n",
    "plt.show()"
   ]
  },
  {
   "cell_type": "code",
   "execution_count": 16,
   "id": "255ca2c9",
   "metadata": {},
   "outputs": [
    {
     "name": "stdout",
     "output_type": "stream",
     "text": [
      "Qual a idade média dos melhores profissionais? R: 34\n",
      "A idade varia tipicamente entre 27 e 40\n"
     ]
    }
   ],
   "source": [
    "print(\"Qual a idade média dos melhores profissionais? R: {:.0f}\".format(\n",
    "    df_best[\"('P1', 'age')\"].mean()\n",
    "))\n",
    "print(\"A idade varia tipicamente entre {:.0f} e {:.0f}\".format(\n",
    "    df_best[\"('P1', 'age')\"].mean()-df_best[\"('P1', 'age')\"].std(),\n",
    "    df_best[\"('P1', 'age')\"].mean()+df_best[\"('P1', 'age')\"].std()\n",
    "))"
   ]
  },
  {
   "cell_type": "code",
   "execution_count": 17,
   "id": "0be5eafe",
   "metadata": {},
   "outputs": [
    {
     "name": "stdout",
     "output_type": "stream",
     "text": [
      "Qual a distribuição de gênero dos melhores profissionais?\n"
     ]
    },
    {
     "data": {
      "text/plain": [
       "Masculino    227\n",
       "Feminino      31\n",
       "Name: ('P2', 'gender'), dtype: int64"
      ]
     },
     "execution_count": 17,
     "metadata": {},
     "output_type": "execute_result"
    }
   ],
   "source": [
    "print(\"Qual a distribuição de gênero dos melhores profissionais?\")\n",
    "df_best[\"('P2', 'gender')\"].value_counts()"
   ]
  },
  {
   "cell_type": "code",
   "execution_count": 18,
   "id": "382080d2",
   "metadata": {},
   "outputs": [
    {
     "name": "stdout",
     "output_type": "stream",
     "text": [
      "\n",
      "Qual a distribuição de UF?\n",
      "São Paulo (SP)            140\n",
      "Minas Gerais (MG)          39\n",
      "Rio de Janeiro (RJ)        17\n",
      "Paraná (PR)                12\n",
      "Rio Grande do Sul (RS)     10\n",
      "Santa Catarina (SC)         4\n",
      "Espírito Santo (ES)         3\n",
      "Name: ('P5', 'living_state'), dtype: int64\n",
      "\n",
      "Qual o degree médio?\n",
      "Pós-graduação                 105\n",
      "Graduação/Bacharelado          62\n",
      "Mestrado                       57\n",
      "Doutorado ou Phd               20\n",
      "Estudante de Graduação          7\n",
      "Não tenho graduação formal      7\n",
      "Name: ('P8', 'degreee_level'), dtype: int64\n"
     ]
    }
   ],
   "source": [
    "print(\"\\nQual a distribuição de UF?\")\n",
    "print(df_best[\"('P5', 'living_state')\"].value_counts())\n",
    "\n",
    "print(\"\\nQual o degree médio?\")\n",
    "print(df_best[\"('P8', 'degreee_level')\"].value_counts())"
   ]
  },
  {
   "cell_type": "code",
   "execution_count": 19,
   "id": "6a82c5e1",
   "metadata": {},
   "outputs": [
    {
     "name": "stdout",
     "output_type": "stream",
     "text": [
      "\n",
      "Qual o job situation?\n"
     ]
    },
    {
     "data": {
      "text/plain": [
       "Empregado (CTL)                     173\n",
       "Empreendedor ou Empregado (CNPJ)     63\n",
       "Servidor Público                     21\n",
       "Prefiro não dizer                     1\n",
       "Name: ('P10', 'job_situation'), dtype: int64"
      ]
     },
     "execution_count": 19,
     "metadata": {},
     "output_type": "execute_result"
    }
   ],
   "source": [
    "print(\"\\nQual o job situation?\")\n",
    "df_best[\"('P10', 'job_situation')\"].value_counts()"
   ]
  },
  {
   "cell_type": "code",
   "execution_count": 20,
   "id": "c9adea1a",
   "metadata": {},
   "outputs": [
    {
     "name": "stdout",
     "output_type": "stream",
     "text": [
      "\n",
      " Essas pessoas ocupam posição de liderança?\n"
     ]
    },
    {
     "data": {
      "text/plain": [
       "0.0    159\n",
       "1.0     99\n",
       "Name: ('P13', 'manager'), dtype: int64"
      ]
     },
     "execution_count": 20,
     "metadata": {},
     "output_type": "execute_result"
    }
   ],
   "source": [
    "print(\"\\n Essas pessoas ocupam posição de liderança?\")\n",
    "df_best[\"('P13', 'manager')\"].value_counts()"
   ]
  },
  {
   "cell_type": "code",
   "execution_count": 21,
   "id": "8ae88fea",
   "metadata": {},
   "outputs": [
    {
     "name": "stdout",
     "output_type": "stream",
     "text": [
      "\n",
      " Qual a faixa salarial mais comum?\n"
     ]
    },
    {
     "data": {
      "text/plain": [
       "de R$ 8.001/mês a R$ 12.000/mês     132\n",
       "de R$ 12.001/mês a R$ 16.000/mês     54\n",
       "de R$ 6.001/mês a R$ 8.000/mês       29\n",
       "de R$ 16.001/mês a R$ 20.000/mês     28\n",
       "de R$ 20.001/mês a R$ 25.000/mês     11\n",
       "Acima de R$ 25.001/mês                4\n",
       "Name: ('P16', 'salary_range'), dtype: int64"
      ]
     },
     "execution_count": 21,
     "metadata": {},
     "output_type": "execute_result"
    }
   ],
   "source": [
    "print(\"\\n Qual a faixa salarial mais comum?\")\n",
    "df_best[\"('P16', 'salary_range')\"].value_counts()"
   ]
  },
  {
   "cell_type": "code",
   "execution_count": 22,
   "id": "1bd74561",
   "metadata": {},
   "outputs": [
    {
     "name": "stdout",
     "output_type": "stream",
     "text": [
      "\n",
      " Qual o tempo de experiência?\n"
     ]
    },
    {
     "data": {
      "text/plain": [
       "de 4 a 5 anos                             62\n",
       "de 6 a 10 anos                            55\n",
       "Mais de 10 anos                           55\n",
       "de 2 a 3 anos                             37\n",
       "de 1 a 2 anos                             34\n",
       "Menos de 1 ano                            14\n",
       "Não tenho experiência na área de dados     1\n",
       "Name: ('P17', 'time_experience_data_science'), dtype: int64"
      ]
     },
     "execution_count": 22,
     "metadata": {},
     "output_type": "execute_result"
    }
   ],
   "source": [
    "print(\"\\n Qual o tempo de experiência?\")\n",
    "df_best[\"('P17', 'time_experience_data_science')\"].value_counts()"
   ]
  },
  {
   "cell_type": "code",
   "execution_count": 23,
   "id": "550026c5",
   "metadata": {},
   "outputs": [
    {
     "name": "stdout",
     "output_type": "stream",
     "text": [
      "\n",
      " Qual o tempo de experiência?\n"
     ]
    },
    {
     "data": {
      "text/plain": [
       "Não tive experiência na área de TI/Engenharia de Software antes de começar a trabalhar na área de dados    62\n",
       "Mais de 10 anos                                                                                            48\n",
       "de 6 a 10 anos                                                                                             44\n",
       "Menos de 1 ano                                                                                             32\n",
       "de 4 a 5 anos                                                                                              30\n",
       "de 1 a 2 anos                                                                                              25\n",
       "de 2 a 3 anos                                                                                              17\n",
       "Name: ('P18', 'time_experience_before'), dtype: int64"
      ]
     },
     "execution_count": 23,
     "metadata": {},
     "output_type": "execute_result"
    }
   ],
   "source": [
    "print(\"\\n Qual o tempo de experiência?\")\n",
    "df_best[\"('P18', 'time_experience_before')\"].value_counts()"
   ]
  },
  {
   "cell_type": "code",
   "execution_count": 24,
   "id": "35ee32eb",
   "metadata": {},
   "outputs": [
    {
     "name": "stdout",
     "output_type": "stream",
     "text": [
      "\n",
      " Qual as metodologias mais utilizadas?\n"
     ]
    },
    {
     "data": {
      "text/html": [
       "<div>\n",
       "<style scoped>\n",
       "    .dataframe tbody tr th:only-of-type {\n",
       "        vertical-align: middle;\n",
       "    }\n",
       "\n",
       "    .dataframe tbody tr th {\n",
       "        vertical-align: top;\n",
       "    }\n",
       "\n",
       "    .dataframe thead th {\n",
       "        text-align: right;\n",
       "    }\n",
       "</style>\n",
       "<table border=\"1\" class=\"dataframe\">\n",
       "  <thead>\n",
       "    <tr style=\"text-align: right;\">\n",
       "      <th></th>\n",
       "      <th>cols</th>\n",
       "      <th>percentage</th>\n",
       "    </tr>\n",
       "  </thead>\n",
       "  <tbody>\n",
       "    <tr>\n",
       "      <th>0</th>\n",
       "      <td>('P20', 'linear_regression')</td>\n",
       "      <td>65.116279</td>\n",
       "    </tr>\n",
       "    <tr>\n",
       "      <th>3</th>\n",
       "      <td>('P20', 'decision_tree')</td>\n",
       "      <td>58.139535</td>\n",
       "    </tr>\n",
       "    <tr>\n",
       "      <th>1</th>\n",
       "      <td>('P20', 'logistic_regression')</td>\n",
       "      <td>53.875969</td>\n",
       "    </tr>\n",
       "    <tr>\n",
       "      <th>16</th>\n",
       "      <td>('P20', 'cluster_analysis')</td>\n",
       "      <td>49.612403</td>\n",
       "    </tr>\n",
       "    <tr>\n",
       "      <th>4</th>\n",
       "      <td>('P20', 'random_forest')</td>\n",
       "      <td>47.674419</td>\n",
       "    </tr>\n",
       "  </tbody>\n",
       "</table>\n",
       "</div>"
      ],
      "text/plain": [
       "                              cols  percentage\n",
       "0     ('P20', 'linear_regression')   65.116279\n",
       "3         ('P20', 'decision_tree')   58.139535\n",
       "1   ('P20', 'logistic_regression')   53.875969\n",
       "16     ('P20', 'cluster_analysis')   49.612403\n",
       "4         ('P20', 'random_forest')   47.674419"
      ]
     },
     "execution_count": 24,
     "metadata": {},
     "output_type": "execute_result"
    }
   ],
   "source": [
    "print(\"\\n Qual as metodologias mais utilizadas?\")\n",
    "tech_best = [col for col in df_best if col.startswith(\"('P20\") ]\n",
    "percs = [df_best[tech_best][col].sum() /len(df_best)*100 for col in df_best[tech_best].columns]\n",
    "\n",
    "df_best_tech = pd.DataFrame()\n",
    "df_best_tech[\"cols\"]=df_best[tech_best].columns\n",
    "df_best_tech[\"percentage\"]=percs\n",
    "\n",
    "df_best_tech.sort_values(by=\"percentage\", ascending=False).head(5)"
   ]
  },
  {
   "cell_type": "code",
   "execution_count": 25,
   "id": "b7af92f4",
   "metadata": {},
   "outputs": [
    {
     "name": "stdout",
     "output_type": "stream",
     "text": [
      "\n",
      " Quais as linguagens mais utilizadas?\n"
     ]
    },
    {
     "data": {
      "text/html": [
       "<div>\n",
       "<style scoped>\n",
       "    .dataframe tbody tr th:only-of-type {\n",
       "        vertical-align: middle;\n",
       "    }\n",
       "\n",
       "    .dataframe tbody tr th {\n",
       "        vertical-align: top;\n",
       "    }\n",
       "\n",
       "    .dataframe thead th {\n",
       "        text-align: right;\n",
       "    }\n",
       "</style>\n",
       "<table border=\"1\" class=\"dataframe\">\n",
       "  <thead>\n",
       "    <tr style=\"text-align: right;\">\n",
       "      <th></th>\n",
       "      <th>cols</th>\n",
       "      <th>percentage</th>\n",
       "    </tr>\n",
       "  </thead>\n",
       "  <tbody>\n",
       "    <tr>\n",
       "      <th>2</th>\n",
       "      <td>('P21', 'python')</td>\n",
       "      <td>86.046512</td>\n",
       "    </tr>\n",
       "    <tr>\n",
       "      <th>0</th>\n",
       "      <td>('P21', 'sql_')</td>\n",
       "      <td>83.720930</td>\n",
       "    </tr>\n",
       "    <tr>\n",
       "      <th>1</th>\n",
       "      <td>('P21', 'r')</td>\n",
       "      <td>37.209302</td>\n",
       "    </tr>\n",
       "    <tr>\n",
       "      <th>5</th>\n",
       "      <td>('P21', 'java')</td>\n",
       "      <td>13.178295</td>\n",
       "    </tr>\n",
       "    <tr>\n",
       "      <th>9</th>\n",
       "      <td>('P21', 'scala')</td>\n",
       "      <td>10.852713</td>\n",
       "    </tr>\n",
       "  </tbody>\n",
       "</table>\n",
       "</div>"
      ],
      "text/plain": [
       "                cols  percentage\n",
       "2  ('P21', 'python')   86.046512\n",
       "0    ('P21', 'sql_')   83.720930\n",
       "1       ('P21', 'r')   37.209302\n",
       "5    ('P21', 'java')   13.178295\n",
       "9   ('P21', 'scala')   10.852713"
      ]
     },
     "execution_count": 25,
     "metadata": {},
     "output_type": "execute_result"
    }
   ],
   "source": [
    "print(\"\\n Quais as linguagens mais utilizadas?\")\n",
    "lang_best = [col for col in df_best if col.startswith(\"('P21\") ]\n",
    "percs = [df_best[lang_best][col].sum() /len(df_best)*100 for col in df_best[lang_best].columns]\n",
    "\n",
    "df_best_lang = pd.DataFrame()\n",
    "df_best_lang[\"cols\"]=df_best[lang_best].columns\n",
    "df_best_lang[\"percentage\"]=percs\n",
    "\n",
    "df_best_lang.sort_values(by=\"percentage\", ascending=False).head(5)"
   ]
  },
  {
   "cell_type": "code",
   "execution_count": 26,
   "id": "4331bddc",
   "metadata": {},
   "outputs": [
    {
     "name": "stdout",
     "output_type": "stream",
     "text": [
      "\n",
      " Quais as fontes de dados mais utilizadas?\n"
     ]
    },
    {
     "data": {
      "text/html": [
       "<div>\n",
       "<style scoped>\n",
       "    .dataframe tbody tr th:only-of-type {\n",
       "        vertical-align: middle;\n",
       "    }\n",
       "\n",
       "    .dataframe tbody tr th {\n",
       "        vertical-align: top;\n",
       "    }\n",
       "\n",
       "    .dataframe thead th {\n",
       "        text-align: right;\n",
       "    }\n",
       "</style>\n",
       "<table border=\"1\" class=\"dataframe\">\n",
       "  <thead>\n",
       "    <tr style=\"text-align: right;\">\n",
       "      <th></th>\n",
       "      <th>cols</th>\n",
       "      <th>percentage</th>\n",
       "    </tr>\n",
       "  </thead>\n",
       "  <tbody>\n",
       "    <tr>\n",
       "      <th>0</th>\n",
       "      <td>('P23', 'sql')</td>\n",
       "      <td>96.511628</td>\n",
       "    </tr>\n",
       "    <tr>\n",
       "      <th>5</th>\n",
       "      <td>('P23', 'sheets')</td>\n",
       "      <td>86.821705</td>\n",
       "    </tr>\n",
       "    <tr>\n",
       "      <th>1</th>\n",
       "      <td>('P23', 'nosql')</td>\n",
       "      <td>55.038760</td>\n",
       "    </tr>\n",
       "    <tr>\n",
       "      <th>3</th>\n",
       "      <td>('P23', 'nlp')</td>\n",
       "      <td>45.736434</td>\n",
       "    </tr>\n",
       "    <tr>\n",
       "      <th>2</th>\n",
       "      <td>('P23', 'images')</td>\n",
       "      <td>22.480620</td>\n",
       "    </tr>\n",
       "  </tbody>\n",
       "</table>\n",
       "</div>"
      ],
      "text/plain": [
       "                cols  percentage\n",
       "0     ('P23', 'sql')   96.511628\n",
       "5  ('P23', 'sheets')   86.821705\n",
       "1   ('P23', 'nosql')   55.038760\n",
       "3     ('P23', 'nlp')   45.736434\n",
       "2  ('P23', 'images')   22.480620"
      ]
     },
     "execution_count": 26,
     "metadata": {},
     "output_type": "execute_result"
    }
   ],
   "source": [
    "print(\"\\n Quais as fontes de dados mais utilizadas?\")\n",
    "source_best = [col for col in df_best if col.startswith(\"('P23\") ]\n",
    "percs = [df_best[source_best][col].sum() /len(df_best)*100 for col in df_best[source_best].columns]\n",
    "\n",
    "df_source_best = pd.DataFrame()\n",
    "df_source_best[\"cols\"]=df_best[source_best].columns\n",
    "df_source_best[\"percentage\"]=percs\n",
    "\n",
    "df_source_best.sort_values(by=\"percentage\", ascending=False).head(5)"
   ]
  },
  {
   "cell_type": "code",
   "execution_count": 27,
   "id": "41a68c9b",
   "metadata": {},
   "outputs": [
    {
     "name": "stdout",
     "output_type": "stream",
     "text": [
      "\n",
      " Quais as clouds mais utilizadas?\n"
     ]
    },
    {
     "data": {
      "text/html": [
       "<div>\n",
       "<style scoped>\n",
       "    .dataframe tbody tr th:only-of-type {\n",
       "        vertical-align: middle;\n",
       "    }\n",
       "\n",
       "    .dataframe tbody tr th {\n",
       "        vertical-align: top;\n",
       "    }\n",
       "\n",
       "    .dataframe thead th {\n",
       "        text-align: right;\n",
       "    }\n",
       "</style>\n",
       "<table border=\"1\" class=\"dataframe\">\n",
       "  <thead>\n",
       "    <tr style=\"text-align: right;\">\n",
       "      <th></th>\n",
       "      <th>cols</th>\n",
       "      <th>percentage</th>\n",
       "    </tr>\n",
       "  </thead>\n",
       "  <tbody>\n",
       "    <tr>\n",
       "      <th>0</th>\n",
       "      <td>('P25', 'aws')</td>\n",
       "      <td>49.612403</td>\n",
       "    </tr>\n",
       "    <tr>\n",
       "      <th>1</th>\n",
       "      <td>('P25', 'gcp')</td>\n",
       "      <td>27.519380</td>\n",
       "    </tr>\n",
       "    <tr>\n",
       "      <th>2</th>\n",
       "      <td>('P25', 'azure')</td>\n",
       "      <td>25.193798</td>\n",
       "    </tr>\n",
       "    <tr>\n",
       "      <th>4</th>\n",
       "      <td>('P25', 'on_premise_servers')</td>\n",
       "      <td>23.255814</td>\n",
       "    </tr>\n",
       "    <tr>\n",
       "      <th>5</th>\n",
       "      <td>('P25', 'cloud_própria')</td>\n",
       "      <td>17.441860</td>\n",
       "    </tr>\n",
       "  </tbody>\n",
       "</table>\n",
       "</div>"
      ],
      "text/plain": [
       "                            cols  percentage\n",
       "0                 ('P25', 'aws')   49.612403\n",
       "1                 ('P25', 'gcp')   27.519380\n",
       "2               ('P25', 'azure')   25.193798\n",
       "4  ('P25', 'on_premise_servers')   23.255814\n",
       "5       ('P25', 'cloud_própria')   17.441860"
      ]
     },
     "execution_count": 27,
     "metadata": {},
     "output_type": "execute_result"
    }
   ],
   "source": [
    "print(\"\\n Quais as clouds mais utilizadas?\")\n",
    "source_best = [col for col in df_best if col.startswith(\"('P25\") ]\n",
    "percs = [df_best[source_best][col].sum() /len(df_best)*100 for col in df_best[source_best].columns]\n",
    "\n",
    "df_source_best = pd.DataFrame()\n",
    "df_source_best[\"cols\"]=df_best[source_best].columns\n",
    "df_source_best[\"percentage\"]=percs\n",
    "\n",
    "df_source_best.sort_values(by=\"percentage\", ascending=False).head(5)"
   ]
  },
  {
   "cell_type": "code",
   "execution_count": 28,
   "id": "040d131d",
   "metadata": {},
   "outputs": [
    {
     "name": "stdout",
     "output_type": "stream",
     "text": [
      "\n",
      " Quais os DBs mais utilizadas?\n"
     ]
    },
    {
     "data": {
      "text/html": [
       "<div>\n",
       "<style scoped>\n",
       "    .dataframe tbody tr th:only-of-type {\n",
       "        vertical-align: middle;\n",
       "    }\n",
       "\n",
       "    .dataframe tbody tr th {\n",
       "        vertical-align: top;\n",
       "    }\n",
       "\n",
       "    .dataframe thead th {\n",
       "        text-align: right;\n",
       "    }\n",
       "</style>\n",
       "<table border=\"1\" class=\"dataframe\">\n",
       "  <thead>\n",
       "    <tr style=\"text-align: right;\">\n",
       "      <th></th>\n",
       "      <th>cols</th>\n",
       "      <th>percentage</th>\n",
       "    </tr>\n",
       "  </thead>\n",
       "  <tbody>\n",
       "    <tr>\n",
       "      <th>2</th>\n",
       "      <td>('P26', 'sql_server')</td>\n",
       "      <td>43.798450</td>\n",
       "    </tr>\n",
       "    <tr>\n",
       "      <th>0</th>\n",
       "      <td>('P26', 'mysql')</td>\n",
       "      <td>42.248062</td>\n",
       "    </tr>\n",
       "    <tr>\n",
       "      <th>11</th>\n",
       "      <td>('P26', 'postgresql')</td>\n",
       "      <td>41.472868</td>\n",
       "    </tr>\n",
       "    <tr>\n",
       "      <th>1</th>\n",
       "      <td>('P26', 'oracle')</td>\n",
       "      <td>32.945736</td>\n",
       "    </tr>\n",
       "    <tr>\n",
       "      <th>10</th>\n",
       "      <td>('P26', 's3')</td>\n",
       "      <td>30.232558</td>\n",
       "    </tr>\n",
       "  </tbody>\n",
       "</table>\n",
       "</div>"
      ],
      "text/plain": [
       "                     cols  percentage\n",
       "2   ('P26', 'sql_server')   43.798450\n",
       "0        ('P26', 'mysql')   42.248062\n",
       "11  ('P26', 'postgresql')   41.472868\n",
       "1       ('P26', 'oracle')   32.945736\n",
       "10          ('P26', 's3')   30.232558"
      ]
     },
     "execution_count": 28,
     "metadata": {},
     "output_type": "execute_result"
    }
   ],
   "source": [
    "print(\"\\n Quais os DBs mais utilizadas?\")\n",
    "source_best = [col for col in df_best if col.startswith(\"('P26\") ]\n",
    "percs = [df_best[source_best][col].sum() /len(df_best)*100 for col in df_best[source_best].columns]\n",
    "\n",
    "df_source_best = pd.DataFrame()\n",
    "df_source_best[\"cols\"]=df_best[source_best].columns\n",
    "df_source_best[\"percentage\"]=percs\n",
    "\n",
    "df_source_best.sort_values(by=\"percentage\", ascending=False).head(5)"
   ]
  },
  {
   "cell_type": "code",
   "execution_count": 29,
   "id": "96d0cf44",
   "metadata": {},
   "outputs": [
    {
     "name": "stdout",
     "output_type": "stream",
     "text": [
      "\n",
      " Quais as ferramentas de BI mais utilizadas?\n"
     ]
    },
    {
     "data": {
      "text/html": [
       "<div>\n",
       "<style scoped>\n",
       "    .dataframe tbody tr th:only-of-type {\n",
       "        vertical-align: middle;\n",
       "    }\n",
       "\n",
       "    .dataframe tbody tr th {\n",
       "        vertical-align: top;\n",
       "    }\n",
       "\n",
       "    .dataframe thead th {\n",
       "        text-align: right;\n",
       "    }\n",
       "</style>\n",
       "<table border=\"1\" class=\"dataframe\">\n",
       "  <thead>\n",
       "    <tr style=\"text-align: right;\">\n",
       "      <th></th>\n",
       "      <th>cols</th>\n",
       "      <th>percentage</th>\n",
       "    </tr>\n",
       "  </thead>\n",
       "  <tbody>\n",
       "    <tr>\n",
       "      <th>0</th>\n",
       "      <td>('P27', 'microsoft_powerbi')</td>\n",
       "      <td>45.348837</td>\n",
       "    </tr>\n",
       "    <tr>\n",
       "      <th>2</th>\n",
       "      <td>('P27', 'tableau')</td>\n",
       "      <td>31.007752</td>\n",
       "    </tr>\n",
       "    <tr>\n",
       "      <th>3</th>\n",
       "      <td>('P27', 'metabase')</td>\n",
       "      <td>20.542636</td>\n",
       "    </tr>\n",
       "    <tr>\n",
       "      <th>1</th>\n",
       "      <td>('P27', 'qlik_view_qlik_sense')</td>\n",
       "      <td>13.953488</td>\n",
       "    </tr>\n",
       "    <tr>\n",
       "      <th>14</th>\n",
       "      <td>('P27', 'no_bi_tool_at_work')</td>\n",
       "      <td>13.565891</td>\n",
       "    </tr>\n",
       "  </tbody>\n",
       "</table>\n",
       "</div>"
      ],
      "text/plain": [
       "                               cols  percentage\n",
       "0      ('P27', 'microsoft_powerbi')   45.348837\n",
       "2                ('P27', 'tableau')   31.007752\n",
       "3               ('P27', 'metabase')   20.542636\n",
       "1   ('P27', 'qlik_view_qlik_sense')   13.953488\n",
       "14    ('P27', 'no_bi_tool_at_work')   13.565891"
      ]
     },
     "execution_count": 29,
     "metadata": {},
     "output_type": "execute_result"
    }
   ],
   "source": [
    "print(\"\\n Quais as ferramentas de BI mais utilizadas?\")\n",
    "source_best = [col for col in df_best if col.startswith(\"('P27\") ]\n",
    "percs = [df_best[source_best][col].sum() /len(df_best)*100 for col in df_best[source_best].columns]\n",
    "\n",
    "df_source_best = pd.DataFrame()\n",
    "df_source_best[\"cols\"]=df_best[source_best].columns\n",
    "df_source_best[\"percentage\"]=percs\n",
    "\n",
    "df_source_best.sort_values(by=\"percentage\", ascending=False).head(5)"
   ]
  },
  {
   "cell_type": "code",
   "execution_count": 30,
   "id": "f5e4f7fe",
   "metadata": {},
   "outputs": [
    {
     "name": "stdout",
     "output_type": "stream",
     "text": [
      "\n",
      " Quais os ETLs mais utilizados?\n"
     ]
    },
    {
     "data": {
      "text/html": [
       "<div>\n",
       "<style scoped>\n",
       "    .dataframe tbody tr th:only-of-type {\n",
       "        vertical-align: middle;\n",
       "    }\n",
       "\n",
       "    .dataframe tbody tr th {\n",
       "        vertical-align: top;\n",
       "    }\n",
       "\n",
       "    .dataframe thead th {\n",
       "        text-align: right;\n",
       "    }\n",
       "</style>\n",
       "<table border=\"1\" class=\"dataframe\">\n",
       "  <thead>\n",
       "    <tr style=\"text-align: right;\">\n",
       "      <th></th>\n",
       "      <th>cols</th>\n",
       "      <th>percentage</th>\n",
       "    </tr>\n",
       "  </thead>\n",
       "  <tbody>\n",
       "    <tr>\n",
       "      <th>0</th>\n",
       "      <td>('P28', 'sql_&amp;_stored_procedures')</td>\n",
       "      <td>36.821705</td>\n",
       "    </tr>\n",
       "    <tr>\n",
       "      <th>11</th>\n",
       "      <td>('P28', 'other')</td>\n",
       "      <td>24.806202</td>\n",
       "    </tr>\n",
       "    <tr>\n",
       "      <th>1</th>\n",
       "      <td>('P28', 'apache_airflow')</td>\n",
       "      <td>22.480620</td>\n",
       "    </tr>\n",
       "    <tr>\n",
       "      <th>5</th>\n",
       "      <td>('P28', 'pentaho')</td>\n",
       "      <td>18.992248</td>\n",
       "    </tr>\n",
       "    <tr>\n",
       "      <th>10</th>\n",
       "      <td>('P28', 'siss_sql_server_integration_services')</td>\n",
       "      <td>14.728682</td>\n",
       "    </tr>\n",
       "  </tbody>\n",
       "</table>\n",
       "</div>"
      ],
      "text/plain": [
       "                                               cols  percentage\n",
       "0                ('P28', 'sql_&_stored_procedures')   36.821705\n",
       "11                                 ('P28', 'other')   24.806202\n",
       "1                         ('P28', 'apache_airflow')   22.480620\n",
       "5                                ('P28', 'pentaho')   18.992248\n",
       "10  ('P28', 'siss_sql_server_integration_services')   14.728682"
      ]
     },
     "execution_count": 30,
     "metadata": {},
     "output_type": "execute_result"
    }
   ],
   "source": [
    "print(\"\\n Quais os ETLs mais utilizados?\")\n",
    "source_best = [col for col in df_best if col.startswith(\"('P28\") ]\n",
    "percs = [df_best[source_best][col].sum() /len(df_best)*100 for col in df_best[source_best].columns]\n",
    "\n",
    "df_source_best = pd.DataFrame()\n",
    "df_source_best[\"cols\"]=df_best[source_best].columns\n",
    "df_source_best[\"percentage\"]=percs\n",
    "\n",
    "df_source_best.sort_values(by=\"percentage\", ascending=False).head(5)"
   ]
  },
  {
   "cell_type": "code",
   "execution_count": 31,
   "id": "65af6377",
   "metadata": {},
   "outputs": [
    {
     "name": "stdout",
     "output_type": "stream",
     "text": [
      "\n",
      " Quais os DataLakes mais utilizados?\n"
     ]
    },
    {
     "data": {
      "text/html": [
       "<div>\n",
       "<style scoped>\n",
       "    .dataframe tbody tr th:only-of-type {\n",
       "        vertical-align: middle;\n",
       "    }\n",
       "\n",
       "    .dataframe tbody tr th {\n",
       "        vertical-align: top;\n",
       "    }\n",
       "\n",
       "    .dataframe thead th {\n",
       "        text-align: right;\n",
       "    }\n",
       "</style>\n",
       "<table border=\"1\" class=\"dataframe\">\n",
       "  <thead>\n",
       "    <tr style=\"text-align: right;\">\n",
       "      <th></th>\n",
       "      <th>cols</th>\n",
       "      <th>percentage</th>\n",
       "    </tr>\n",
       "  </thead>\n",
       "  <tbody>\n",
       "    <tr>\n",
       "      <th>4</th>\n",
       "      <td>('P30', 'postgres_mysql')</td>\n",
       "      <td>14.728682</td>\n",
       "    </tr>\n",
       "    <tr>\n",
       "      <th>7</th>\n",
       "      <td>('P30', 'microsoft_azure')</td>\n",
       "      <td>12.790698</td>\n",
       "    </tr>\n",
       "    <tr>\n",
       "      <th>3</th>\n",
       "      <td>('P30', 'oracle')</td>\n",
       "      <td>11.627907</td>\n",
       "    </tr>\n",
       "    <tr>\n",
       "      <th>1</th>\n",
       "      <td>('P30', 'aws_redshift')</td>\n",
       "      <td>11.240310</td>\n",
       "    </tr>\n",
       "    <tr>\n",
       "      <th>0</th>\n",
       "      <td>('P30', 'google_bigquery')</td>\n",
       "      <td>6.976744</td>\n",
       "    </tr>\n",
       "  </tbody>\n",
       "</table>\n",
       "</div>"
      ],
      "text/plain": [
       "                         cols  percentage\n",
       "4   ('P30', 'postgres_mysql')   14.728682\n",
       "7  ('P30', 'microsoft_azure')   12.790698\n",
       "3           ('P30', 'oracle')   11.627907\n",
       "1     ('P30', 'aws_redshift')   11.240310\n",
       "0  ('P30', 'google_bigquery')    6.976744"
      ]
     },
     "execution_count": 31,
     "metadata": {},
     "output_type": "execute_result"
    }
   ],
   "source": [
    "print(\"\\n Quais os DataLakes mais utilizados?\")\n",
    "source_best = [col for col in df_best if col.startswith(\"('P30\") ]\n",
    "percs = [df_best[source_best][col].sum() /len(df_best)*100 for col in df_best[source_best].columns]\n",
    "\n",
    "df_source_best = pd.DataFrame()\n",
    "df_source_best[\"cols\"]=df_best[source_best].columns\n",
    "df_source_best[\"percentage\"]=percs\n",
    "\n",
    "df_source_best.sort_values(by=\"percentage\", ascending=False).head(5)"
   ]
  },
  {
   "cell_type": "code",
   "execution_count": 32,
   "id": "4f2bda0a",
   "metadata": {},
   "outputs": [
    {
     "name": "stdout",
     "output_type": "stream",
     "text": [
      "\n",
      " Quais os DataLakes mais utilizados?\n"
     ]
    },
    {
     "data": {
      "text/html": [
       "<div>\n",
       "<style scoped>\n",
       "    .dataframe tbody tr th:only-of-type {\n",
       "        vertical-align: middle;\n",
       "    }\n",
       "\n",
       "    .dataframe tbody tr th {\n",
       "        vertical-align: top;\n",
       "    }\n",
       "\n",
       "    .dataframe thead th {\n",
       "        text-align: right;\n",
       "    }\n",
       "</style>\n",
       "<table border=\"1\" class=\"dataframe\">\n",
       "  <thead>\n",
       "    <tr style=\"text-align: right;\">\n",
       "      <th></th>\n",
       "      <th>cols</th>\n",
       "      <th>percentage</th>\n",
       "    </tr>\n",
       "  </thead>\n",
       "  <tbody>\n",
       "    <tr>\n",
       "      <th>6</th>\n",
       "      <td>('P33', 'abroad_blogs')</td>\n",
       "      <td>56.201550</td>\n",
       "    </tr>\n",
       "    <tr>\n",
       "      <th>8</th>\n",
       "      <td>('P33', 'meetups_and_events')</td>\n",
       "      <td>55.813953</td>\n",
       "    </tr>\n",
       "    <tr>\n",
       "      <th>2</th>\n",
       "      <td>('P33', 'youtube_channels')</td>\n",
       "      <td>48.837209</td>\n",
       "    </tr>\n",
       "    <tr>\n",
       "      <th>3</th>\n",
       "      <td>('P33', 'other_brasilian_blogs')</td>\n",
       "      <td>35.658915</td>\n",
       "    </tr>\n",
       "    <tr>\n",
       "      <th>7</th>\n",
       "      <td>('P33', 'abroad_podcasts')</td>\n",
       "      <td>34.496124</td>\n",
       "    </tr>\n",
       "  </tbody>\n",
       "</table>\n",
       "</div>"
      ],
      "text/plain": [
       "                               cols  percentage\n",
       "6           ('P33', 'abroad_blogs')   56.201550\n",
       "8     ('P33', 'meetups_and_events')   55.813953\n",
       "2       ('P33', 'youtube_channels')   48.837209\n",
       "3  ('P33', 'other_brasilian_blogs')   35.658915\n",
       "7        ('P33', 'abroad_podcasts')   34.496124"
      ]
     },
     "execution_count": 32,
     "metadata": {},
     "output_type": "execute_result"
    }
   ],
   "source": [
    "print(\"\\n Quais os DataLakes mais utilizados?\")\n",
    "source_best = [col for col in df_best if col.startswith(\"('P33\") ]\n",
    "percs = [df_best[source_best][col].sum() /len(df_best)*100 for col in df_best[source_best].columns]\n",
    "\n",
    "df_source_best = pd.DataFrame()\n",
    "df_source_best[\"cols\"]=df_best[source_best].columns\n",
    "df_source_best[\"percentage\"]=percs\n",
    "\n",
    "df_source_best.sort_values(by=\"percentage\", ascending=False).head(5)"
   ]
  },
  {
   "cell_type": "code",
   "execution_count": 33,
   "id": "8b59aca2",
   "metadata": {},
   "outputs": [
    {
     "name": "stdout",
     "output_type": "stream",
     "text": [
      "\n",
      " Quais os DataLakes mais utilizados?\n"
     ]
    },
    {
     "data": {
      "text/html": [
       "<div>\n",
       "<style scoped>\n",
       "    .dataframe tbody tr th:only-of-type {\n",
       "        vertical-align: middle;\n",
       "    }\n",
       "\n",
       "    .dataframe tbody tr th {\n",
       "        vertical-align: top;\n",
       "    }\n",
       "\n",
       "    .dataframe thead th {\n",
       "        text-align: right;\n",
       "    }\n",
       "</style>\n",
       "<table border=\"1\" class=\"dataframe\">\n",
       "  <thead>\n",
       "    <tr style=\"text-align: right;\">\n",
       "      <th></th>\n",
       "      <th>cols</th>\n",
       "      <th>percentage</th>\n",
       "    </tr>\n",
       "  </thead>\n",
       "  <tbody>\n",
       "    <tr>\n",
       "      <th>2</th>\n",
       "      <td>('P34', 'udemy')</td>\n",
       "      <td>60.465116</td>\n",
       "    </tr>\n",
       "    <tr>\n",
       "      <th>1</th>\n",
       "      <td>('P34', 'coursera')</td>\n",
       "      <td>57.751938</td>\n",
       "    </tr>\n",
       "    <tr>\n",
       "      <th>0</th>\n",
       "      <td>('P34', 'udacity')</td>\n",
       "      <td>36.434109</td>\n",
       "    </tr>\n",
       "    <tr>\n",
       "      <th>4</th>\n",
       "      <td>('P34', 'edx')</td>\n",
       "      <td>25.581395</td>\n",
       "    </tr>\n",
       "    <tr>\n",
       "      <th>5</th>\n",
       "      <td>('P34', 'data_camp')</td>\n",
       "      <td>22.480620</td>\n",
       "    </tr>\n",
       "    <tr>\n",
       "      <th>7</th>\n",
       "      <td>('P34', 'kaggle_learn')</td>\n",
       "      <td>18.604651</td>\n",
       "    </tr>\n",
       "    <tr>\n",
       "      <th>3</th>\n",
       "      <td>('P34', 'height')</td>\n",
       "      <td>13.565891</td>\n",
       "    </tr>\n",
       "    <tr>\n",
       "      <th>9</th>\n",
       "      <td>('P34', 'other')</td>\n",
       "      <td>13.178295</td>\n",
       "    </tr>\n",
       "    <tr>\n",
       "      <th>8</th>\n",
       "      <td>('P34', 'online_courses')</td>\n",
       "      <td>5.426357</td>\n",
       "    </tr>\n",
       "    <tr>\n",
       "      <th>6</th>\n",
       "      <td>('P34', 'data_quest')</td>\n",
       "      <td>4.263566</td>\n",
       "    </tr>\n",
       "  </tbody>\n",
       "</table>\n",
       "</div>"
      ],
      "text/plain": [
       "                        cols  percentage\n",
       "2           ('P34', 'udemy')   60.465116\n",
       "1        ('P34', 'coursera')   57.751938\n",
       "0         ('P34', 'udacity')   36.434109\n",
       "4             ('P34', 'edx')   25.581395\n",
       "5       ('P34', 'data_camp')   22.480620\n",
       "7    ('P34', 'kaggle_learn')   18.604651\n",
       "3          ('P34', 'height')   13.565891\n",
       "9           ('P34', 'other')   13.178295\n",
       "8  ('P34', 'online_courses')    5.426357\n",
       "6      ('P34', 'data_quest')    4.263566"
      ]
     },
     "execution_count": 33,
     "metadata": {},
     "output_type": "execute_result"
    }
   ],
   "source": [
    "print(\"\\n Quais os DataLakes mais utilizados?\")\n",
    "source_best = [col for col in df_best if col.startswith(\"('P34\") ]\n",
    "percs = [df_best[source_best][col].sum() /len(df_best)*100 for col in df_best[source_best].columns]\n",
    "\n",
    "df_source_best = pd.DataFrame()\n",
    "df_source_best[\"cols\"]=df_best[source_best].columns\n",
    "df_source_best[\"percentage\"]=percs\n",
    "\n",
    "df_source_best.sort_values(by=\"percentage\", ascending=False)"
   ]
  },
  {
   "cell_type": "markdown",
   "id": "088e1a17",
   "metadata": {},
   "source": [
    "O melhor profissional da Ciência de Dados hoje ganha em média R$12.000, tem entre 27 e 40 anos e tem 88% de chance de ser mulher. Possui 62% de chance de morar em São Paulo. Tem 41% de chance de ter pós-graduação, 24% de chance de ser graduado, 22% de ter mestrado, e 8% de chance de ter doutorado. Possui 67% de chance de ser CLT, 24% de chance de ser pessoa jurídica, e 8% de chance de ser servidor público. 62% dessas pessoas ocupam posição de liderança.\n",
    "24% dessas pessoas possuem de 4 a 5 anos de experiência, 21% de ter de 6 a 10 anos, 21% de ter mais de 10 anos, 14% de ter de 2 a 3 anos de experiância, 13% de chance de ter de 1 a 2 anos de experiência, e 5% de chance de ter menos de um ano de experiência.\n",
    "\\\n",
    "\\\n",
    "Para estes profissionais, 65% utilizam regressão linear, 58% utilizam árvores de decisão, 54% utilizam regressão logística, 50% usam análise de cluster, e 48% utilizam florestas aleatórias. 86% desses profissionais utilizam Python, 84% utilizam SQL, 37% utilizam R, 14% usam Java, e 11% utilizam Scala.\n",
    "\\\n",
    "\\\n",
    "As fontes de dados mais utilizadas são SQL (96%), Sheets (87%), NoSQL (55%), NLP (46%), e imagens (23%). As clouds mais utilizadas são AWS (50%), GCP (28%) e Azure (25%). As DBs mais utilizadas são SQL Server (44%), MySQL (42%), PostgreSQL (41%) e Oracle (33%). As ferramentas de BI mais utilizadas são Power BI (45%), Tableau (31%), MetaBase (21%) e Qlik (14%).\n",
    "\\\n",
    "\\\n",
    "As plataformas de curso mais utilizadas são Udemy (60%), Cousera (58%), Udacity (36%), EDX (26%), e Data Camp (23%)."
   ]
  }
 ],
 "metadata": {
  "kernelspec": {
   "display_name": "Python 3 (ipykernel)",
   "language": "python",
   "name": "python3"
  },
  "language_info": {
   "codemirror_mode": {
    "name": "ipython",
    "version": 3
   },
   "file_extension": ".py",
   "mimetype": "text/x-python",
   "name": "python",
   "nbconvert_exporter": "python",
   "pygments_lexer": "ipython3",
   "version": "3.9.7"
  }
 },
 "nbformat": 4,
 "nbformat_minor": 5
}
